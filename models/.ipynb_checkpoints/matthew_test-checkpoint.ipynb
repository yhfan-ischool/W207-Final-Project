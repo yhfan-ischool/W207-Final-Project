{
 "cells": [
  {
   "cell_type": "markdown",
   "metadata": {},
   "source": [
    "# W207 Final Project\n",
    "### Kaggle Competition\n",
    "[San Francisco Crime Statistics](https://www.kaggle.com/c/sf-crime)\n",
    "\n",
    "In this project, we worked on predicting categories of crime in San Francisco for years 2003 to 2015. The data included time, date, location, and neighborhood as some of the features. The training data included additional crime description/resolution information that was not found on the data to be predicted for. \n",
    "  \n",
    "###  Team Members\n",
    "Chuck Bolin, Matthew Burke, Yun-Hui Fan\n",
    "\n",
    "## Table of Contents\n",
    "### Library / Data Loading\n",
    "### Feature Engineering\n",
    "* Date Attributes\n",
    "* XY Coordinates\n",
    "* Address Parsing\n",
    "#### Data Preparation\n",
    "* Train/Test Split\n",
    "* PCA\n",
    "### Model Evaluation\n",
    "* Logsitic Regression\n",
    "    - Optimization\n",
    "    - Error Analysis\n",
    "* KNN\n",
    "* Random Forest\n",
    "* Naive Bayes\n",
    "    - Bernoulli\n",
    "    - Gaussian\n",
    "* XGBoost\n",
    "### Final Model Predictions\n",
    "* Data Prep/Prediction\n",
    "* Submissions\n",
    "    - Models\n",
    "    - Results"
   ]
  },
  {
   "cell_type": "code",
   "execution_count": 3,
   "metadata": {
    "collapsed": false
   },
   "outputs": [],
   "source": [
    "# This tells matplotlib not to try opening a new window for each plot.\n",
    "%matplotlib inline\n",
    "\n",
    "# General libraries.\n",
    "import re\n",
    "import numpy as np\n",
    "import pandas as pd\n",
    "import matplotlib.pyplot as plt\n",
    "\n",
    "# SK-learn libraries for learning.\n",
    "from sklearn.linear_model import LogisticRegression\n",
    "from sklearn.model_selection import GridSearchCV\n",
    "from sklearn.model_selection import train_test_split\n",
    "from sklearn.ensemble import RandomForestClassifier\n",
    "from sklearn.neighbors import KNeighborsClassifier\n",
    "from sklearn.ensemble import RandomForestClassifier\n",
    "from sklearn.naive_bayes import *\n",
    "from sklearn.svm import SVC\n",
    "from sklearn.mixture import GaussianMixture\n",
    "\n",
    "# SK-learn libraries for evaluation.\n",
    "from sklearn.metrics import confusion_matrix\n",
    "from sklearn import metrics\n",
    "from sklearn import utils\n",
    "\n",
    "# SK-learn libraries for feature extraction from text.\n",
    "from sklearn.feature_extraction.text import *\n",
    "from sklearn.preprocessing import LabelEncoder\n",
    "from sklearn.preprocessing import LabelBinarizer\n",
    "from sklearn.decomposition import PCA"
   ]
  },
  {
   "cell_type": "markdown",
   "metadata": {},
   "source": [
    "### Data Loading\n",
    "Load in training and test data to variables"
   ]
  },
  {
   "cell_type": "code",
   "execution_count": 4,
   "metadata": {
    "collapsed": true
   },
   "outputs": [],
   "source": [
    "train_all = pd.read_csv('../data/train.csv', delimiter=',', parse_dates=['Dates'])\n",
    "# test_final contains data which will be submitted to kaggle after predicting categories\n",
    "# Includes ID field not found in training data\n",
    "# Does not include description, category or resolution fields in training data\n",
    "test_final = pd.read_csv('../data/test.csv', delimiter=',')"
   ]
  },
  {
   "cell_type": "markdown",
   "metadata": {},
   "source": [
    "## Feature Engineering\n",
    "\n",
    "### Date Features\n",
    "Take the single time to create features for Year, Month, Day and Hour"
   ]
  },
  {
   "cell_type": "code",
   "execution_count": 5,
   "metadata": {
    "collapsed": false,
    "scrolled": false
   },
   "outputs": [],
   "source": [
    "def dateAttributes(df):\n",
    "    df = df.copy()\n",
    "    df['Year'] = pd.DatetimeIndex(df['Dates']).year\n",
    "    df['Month'] = pd.DatetimeIndex(df['Dates']).month\n",
    "    df['Day'] = pd.DatetimeIndex(df['Dates']).day\n",
    "    df['Hour'] = pd.DatetimeIndex(df['Dates']).hour\n",
    "    return df\n",
    "\n",
    "# Extract elements of dates\n",
    "train_all = dateAttributes(train_all)\n",
    "\n",
    "# Column names to binarize:\n",
    "bin_cols = ['Year', 'Month', 'Hour', 'DayOfWeek', 'PdDistrict']\n",
    "\n",
    "# Binarize columns identified above and add to dataframe\n",
    "for column in bin_cols:\n",
    "    dummies = pd.get_dummies(train_all[column])\n",
    "    train_all[dummies.columns] = dummies\n",
    "\n",
    "# Encode all categories into integers for use later\n",
    "le = LabelEncoder()\n",
    "labels_all = le.fit_transform(train_all['Category'])\n",
    "\n",
    "    \n",
    "#Extract categories names from encoder for use later\n",
    "categories = le.classes_"
   ]
  },
  {
   "cell_type": "markdown",
   "metadata": {},
   "source": [
    "### XY Coordinates\n",
    "Round X and Y features to 2 decimal places, convert to strings and then combine into single value\n",
    "Binarize new feature and concatenate to training data"
   ]
  },
  {
   "cell_type": "code",
   "execution_count": 6,
   "metadata": {
    "collapsed": true
   },
   "outputs": [],
   "source": [
    "fun = lambda x: str(round(x, 2))\n",
    "temp = train_all['X'].map(fun) + train_all['Y'].map(fun)\n",
    "lb = LabelBinarizer()\n",
    "train_all = np.concatenate((train_all, lb.fit_transform(temp)), axis=1)"
   ]
  },
  {
   "cell_type": "markdown",
   "metadata": {},
   "source": [
    "### Mapping Addresses\n",
    "Extract street names from `Address` column and combine if multiple street names, i.e. for a city block.\n",
    "Ultimately creates 12000+ features, which isn't necessarily more helpful than XY coordinates, especially since we are removing the block numbers which reduces precision even further."
   ]
  },
  {
   "cell_type": "code",
   "execution_count": 33,
   "metadata": {
    "collapsed": false
   },
   "outputs": [
    {
     "name": "stdout",
     "output_type": "stream",
     "text": [
      "Total Street Name Features: 12758\n"
     ]
    }
   ],
   "source": [
    "add = train_all[:,6]\n",
    "streets = []\n",
    "for i in range(0,len(add)):\n",
    "    matches = re.findall('[A-Z]{3,}|[0-9]+TH',add[i])\n",
    "    if len(matches)==1:\n",
    "        streets.append(matches[0])\n",
    "    else:\n",
    "        streets.append(''.join(matches))\n",
    "print 'Total Street Name Features:', len(np.unique(streets))"
   ]
  },
  {
   "cell_type": "markdown",
   "metadata": {},
   "source": [
    "## Split Data Into Train/Test\n",
    "Designate 1/3 of the data to be test data and the other 2/3 to be training data for development purposes"
   ]
  },
  {
   "cell_type": "code",
   "execution_count": 8,
   "metadata": {
    "collapsed": false
   },
   "outputs": [
    {
     "name": "stdout",
     "output_type": "stream",
     "text": [
      "Check that data has been formed correctly:\n",
      "\n",
      "Training data shape:  (588292, 206)\n",
      "Training labels shape:  588292\n",
      "Test data shape:  (289757, 206)\n",
      "Test labels shape:  289757\n",
      "('Train labels: ', 39)\n",
      "('Test  labels: ', 38)\n",
      "\n",
      "Top row of training data:\n",
      "\n",
      "[Timestamp('2015-04-04 00:01:00') 'LARCENY/THEFT' 'PETTY THEFT OF PROPERTY'\n",
      " 'Saturday' 'NORTHERN' 'NONE' '2200 Block of POLK ST' -122.422076812058\n",
      " 37.797126504747 2015 4 4 0 0.0 0.0 0.0 0.0 0.0 0.0 0.0 0.0 0.0 0.0 0.0 0.0\n",
      " 1.0 0.0 0.0 0.0 0.0 0.0 0.0 0.0 0.0 0.0 0.0 0.0 0.0 1.0 0.0 0.0 0.0 0.0\n",
      " 0.0 0.0 0.0 0.0 0.0 0.0 0.0 0.0 0.0 1.0 0.0 0.0 0.0 0.0 0.0 0.0 0.0 0.0\n",
      " 1.0 0.0 0.0 0.0 0.0 0.0 0 0 0 0 0 0 0 0 0 0 0 0 0 0 0 0 0 0 0 0 0 0 0 0 0\n",
      " 0 0 0 0 0 0 0 0 0 0 0 0 0 0 0 0 1 0 0 0 0 0 0 0 0 0 0 0 0 0 0 0 0 0 0 0 0\n",
      " 0 0 0 0 0 0 0 0 0 0 0 0 0 0 0 0 0 0 0 0 0 0 0 0 0 0 0 0 0 0 0 0 0 0 0 0 0\n",
      " 0 0 0 0 0 0 0 0 0 0 0 0 0 0 0 0 0 0 0 0 0 0 0 0 0 0 0 0 0 0 0 0 0 0 0 0 0\n",
      " 0 0 0]\n"
     ]
    }
   ],
   "source": [
    "# Define fraction of data to be used as test data\n",
    "fraction = 0.33\n",
    "\n",
    "# Split data into training and test data/labels randomly according to fraction specified\n",
    "train_labels, test_labels, train_data, test_data = train_test_split(labels_all, train_all, test_size=fraction)\n",
    "\n",
    "\n",
    "print 'Check that data has been formed correctly:\\n'\n",
    "\n",
    "print 'Training data shape: ', train_data.shape\n",
    "print 'Training labels shape: ', len(train_labels)#train_labels.shape\n",
    "\n",
    "print 'Test data shape: ', test_data.shape\n",
    "print 'Test labels shape: ', len(test_labels)#test_labels.shape\n",
    "\n",
    "print('Train labels: ', len(np.unique(train_labels)))\n",
    "print('Test  labels: ', len(np.unique(test_labels)))\n",
    "\n",
    "print '\\nTop row of training data:\\n'\n",
    "\n",
    "print train_data [0,]"
   ]
  },
  {
   "cell_type": "markdown",
   "metadata": {},
   "source": [
    "### PCA\n",
    "Performing PCA on binarized Year, Month, Hour, DayOfWeek, District and XY coordinate"
   ]
  },
  {
   "cell_type": "code",
   "execution_count": 6,
   "metadata": {
    "collapsed": false
   },
   "outputs": [
    {
     "name": "stdout",
     "output_type": "stream",
     "text": [
      "Components:   5     Variance Explained:  0.0195971410648\n",
      "Components:  10     Variance Explained:  0.0346923201463\n",
      "Components:  15     Variance Explained:  0.0478148962278\n",
      "Components:  20     Variance Explained:  0.0558327939406\n",
      "Components:  25     Variance Explained:  0.0620686843686\n",
      "Components:  30     Variance Explained:  0.0674808682207\n",
      "Components:  35     Variance Explained:  0.0721162360068\n",
      "Components:  40     Variance Explained:  0.0757859880138\n",
      "Components:  45     Variance Explained:  0.078517611605\n"
     ]
    }
   ],
   "source": [
    "pca_mod = PCA(n_components=50).fit(train_all[:200000,12:])\n",
    "for i in range(5,50,5):\n",
    "    var = sum(pca_mod.explained_variance_ratio_[range(1,i)])\n",
    "    print 'Components: ', '{:2}'.format(i), '    Variance Explained: ', var"
   ]
  },
  {
   "cell_type": "markdown",
   "metadata": {},
   "source": [
    "## Model Evaluation\n",
    "We define subsets of the training and test data to use for development. Larger datasets will be used for full validation\n",
    "\n",
    "`cols` is the set of columns for all binary variables\n",
    "\n",
    "`knnCols` is the set of columns for integer-mapped categorical variables"
   ]
  },
  {
   "cell_type": "code",
   "execution_count": null,
   "metadata": {
    "collapsed": false
   },
   "outputs": [],
   "source": [
    "# Columns to use in baseline classification\n",
    "cols = range(13, 206)\n",
    "knnCols = range(7,13)\n",
    "\n",
    "dev_data = train_data[:300000,:]\n",
    "dev_labels = train_labels[:300000]\n",
    "\n",
    "dev_test_data = test_data[:80000,:]\n",
    "dev_test_labels = test_labels[:80000]\n",
    "\n",
    "print('Train labels: ', len(np.unique(dev_labels)))\n",
    "print('Test  labels: ', len(np.unique(dev_test_labels)))"
   ]
  },
  {
   "cell_type": "markdown",
   "metadata": {},
   "source": [
    "### Logistic Regression\n",
    "We tested logistic regression as a simple, baseline model since it is intuitive and the importance of prediction factors is easily identifiable. First we use a gridsearch on C values to find optimal parameters.\n",
    "\n",
    "## NOTES FOR CHUCK/YUN-HUI\n",
    "I tried running these, but they take forever using the full training data. If I lower them, however, I end up running into the error where the model does not actually predict one or two of the classes, and it errors out. \n",
    "\n",
    "L1 regularization parameters check first:"
   ]
  },
  {
   "cell_type": "code",
   "execution_count": null,
   "metadata": {
    "collapsed": false
   },
   "outputs": [],
   "source": [
    "c_values = [0.1, 0.2, 0.3, 0.4, 0.5, 0.6, 0.7, 0.8, 0.9, 1]\n",
    "penalty = ['l1']\n",
    "solver = ['liblinear','sag']\n",
    "params = {'C': c_values, 'penalty': penalty, 'solver': solver}\n",
    "grid = GridSearchCV(estimator=LogisticRegression(), param_grid=params, scoring='neg_log_loss')\n",
    "grid.fit(train_data[:,cols], train_labels)\n",
    "print grid\n",
    "print grid.best_params_"
   ]
  },
  {
   "cell_type": "markdown",
   "metadata": {},
   "source": [
    "L2 regularization parameters check:"
   ]
  },
  {
   "cell_type": "code",
   "execution_count": null,
   "metadata": {
    "collapsed": false
   },
   "outputs": [],
   "source": [
    "c_values = [0.1, 0.2, 0.3, 0.4, 0.5, 0.6, 0.7, 0.8, 0.9, 1]\n",
    "penalty = ['l2']\n",
    "solver = ['newton-cg', 'lbfgs', 'sag']\n",
    "params = {'C': c_values, 'penalty': penalty, 'solver': solver}\n",
    "grid = GridSearchCV(estimator=LogisticRegression(), param_grid=params, scoring='neg_log_loss')\n",
    "grid.fit(dev_data[:,cols], dev_labels)\n",
    "print grid\n",
    "print grid.best_params_"
   ]
  },
  {
   "cell_type": "code",
   "execution_count": 32,
   "metadata": {
    "collapsed": false
   },
   "outputs": [
    {
     "name": "stdout",
     "output_type": "stream",
     "text": [
      "Begin training\n",
      "Completed training\n",
      "Begin prediction\n",
      "Completed prediction\n",
      "\n",
      "Log score:  2.51519731138 \n",
      "\n",
      "Accuracy:  0.2449125 \n",
      "\n",
      "Probability prediction examples:  [ 0.01483811  0.15903765  0.00027453  0.00063634  0.03198766  0.00113978\n",
      "  0.00415697  0.03510617  0.00215212  0.00062875  0.00026444  0.00027965\n",
      "  0.00125853  0.00402579  0.00018967  0.00566952  0.05522211  0.00043416\n",
      "  0.00031183  0.0400768   0.06087067  0.16393388  0.00017228  0.00058718\n",
      "  0.00940559  0.02698002  0.00122659  0.04952153  0.00636652  0.00046899\n",
      "  0.00679316  0.00085782  0.05084693  0.00017278  0.007653    0.11333209\n",
      "  0.0451954   0.04709703  0.05082797]\n"
     ]
    }
   ],
   "source": [
    "lgr = LogisticRegression(C=0.3)\n",
    "print 'Begin training'\n",
    "lgr.fit(dev_data[:,cols], dev_labels)\n",
    "print 'Completed training'\n",
    "\n",
    "print 'Begin prediction'\n",
    "pred_probs = lgr.predict_proba(dev_test_data[:,cols])\n",
    "pred = lgr.predict(dev_test_data[:,cols])\n",
    "\n",
    "print 'Completed prediction\\n'\n",
    "\n",
    "print 'Log score: ', metrics.log_loss(dev_test_labels, pred_probs, labels=range(0,39)), '\\n'\n",
    "\n",
    "print 'Accuracy: ', metrics.accuracy_score(dev_test_labels, pred), '\\n'\n",
    "\n",
    "print 'Probability prediction examples: ', pred_probs[0,]"
   ]
  },
  {
   "cell_type": "markdown",
   "metadata": {},
   "source": [
    "This prediction did reasonably well as a baseline Kaggle submission. We look further into what types of mislabeling are happening. There is a very low actual accuracy since there are so many labels, but a confusion matrix will help us narrow down where any incorrect classification trends are occurring."
   ]
  },
  {
   "cell_type": "code",
   "execution_count": 61,
   "metadata": {
    "collapsed": false
   },
   "outputs": [
    {
     "data": {
      "image/png": "[encoded data removed]",
      "text/plain": [
       "<matplotlib.figure.Figure at 0x1226b3990>"
      ]
     },
     "metadata": {},
     "output_type": "display_data"
    },
    {
     "name": "stdout",
     "output_type": "stream",
     "text": [
      "Confusion matrix, without normalization\n",
      "[[  0   7   0 ...,  16   0   0]\n",
      " [  0 448   0 ..., 311   0   0]\n",
      " [  0   0   0 ...,   2   0   0]\n",
      " ..., \n",
      " [  0 166   0 ..., 780   0   0]\n",
      " [  0 124   0 ..., 104   0   0]\n",
      " [  0  66   0 ...,  30   0   0]]\n"
     ]
    },
    {
     "data": {
      "image/png": "[encoded data removed]",
      "text/plain": [
       "<matplotlib.figure.Figure at 0x11d9a3590>"
      ]
     },
     "metadata": {},
     "output_type": "display_data"
    }
   ],
   "source": [
    "fig, ax = plt.subplots()\n",
    "width = [0.35]\n",
    "pred_chart = ax.bar(range(0,39), np.bincount(pred, minlength=39), width, color='r')\n",
    "actual_chart = ax.bar(np.array(range(0,39)) + width, np.bincount(dev_test_labels, minlength=39), width, color='b')\n",
    "\n",
    "ax.set_ylabel('Category #')\n",
    "ax.set_xlabel('Category #')\n",
    "ax.set_title('Actual vs Predicted Categories')\n",
    "\n",
    "ax.legend((pred_chart[0], actual_chart[0]), ('Prediction', 'Actual'))\n",
    "\n",
    "plt.show()\n",
    "\n",
    "# Function taken from scikit-learn's confusion matrix example\n",
    "def plot_confusion_matrix(cm, classes,\n",
    "                          normalize=False,\n",
    "                          title='Confusion matrix',\n",
    "                          cmap=plt.cm.Blues):\n",
    "    \"\"\"\n",
    "    This function prints and plots the confusion matrix.\n",
    "    Normalization can be applied by setting `normalize=True`.\n",
    "    \"\"\"\n",
    "    plt.imshow(cm, interpolation='nearest', cmap=cmap)\n",
    "    plt.title(title)\n",
    "    plt.colorbar()\n",
    "    tick_marks = np.arange(len(classes))\n",
    "    plt.xticks(tick_marks, classes, rotation=45)\n",
    "    plt.yticks(tick_marks, classes)\n",
    "\n",
    "    if normalize:\n",
    "        cm = cm.astype('float') / cm.sum(axis=1)[:, np.newaxis]\n",
    "        print(\"Normalized confusion matrix\")\n",
    "    else:\n",
    "        print('Confusion matrix, without normalization')\n",
    "\n",
    "    print(cm)\n",
    "\n",
    "    thresh = cm.max() / 2.\n",
    "\n",
    "\n",
    "    plt.tight_layout()\n",
    "    plt.ylabel('True label')\n",
    "    plt.xlabel('Predicted label')\n",
    "\n",
    "conf_mat = confusion_matrix(dev_test_labels, pred)\n",
    "plot_confusion_matrix(conf_mat, range(0,39))"
   ]
  },
  {
   "cell_type": "markdown",
   "metadata": {},
   "source": [
    "As you can see above, it looks like most of the actual predicted classes are focused a few classes that have the highest number of appearances. "
   ]
  },
  {
   "cell_type": "markdown",
   "metadata": {},
   "source": [
    "### K Neighbors Classifier\n",
    "The K neighbors classifier uses clustering in order to group features together. \n",
    "It seems appropriate that we use this algorithm, considering that we are dealing with actual neighborhoods in the data. We need to first find the optimal number of clusters to use.\n",
    "Additionally, we will change the parameters to include the actual X/Y coordinate values instead of the combined string proxy version since it can use the numerical data to form actual clusters in space."
   ]
  },
  {
   "cell_type": "code",
   "execution_count": null,
   "metadata": {
    "collapsed": false
   },
   "outputs": [],
   "source": [
    "n_values = [200, 300, 500]\n",
    "params = {'n_neighbors': n_values}\n",
    "grid = GridSearchCV(estimator=KNeighborsClassifier(), param_grid=params, scoring='neg_log_loss')\n",
    "grid.fit(dev_data[:,knnCols], dev_labels)\n",
    "print grid\n",
    "print grid.get_params(0)\n",
    "print grid.best_params_"
   ]
  },
  {
   "cell_type": "code",
   "execution_count": 23,
   "metadata": {
    "collapsed": false
   },
   "outputs": [
    {
     "name": "stdout",
     "output_type": "stream",
     "text": [
      "Begin fitting\n",
      "Completed fitting\n",
      "Begin prediction\n",
      "Completed prediction\n",
      "2.73746237363\n"
     ]
    }
   ],
   "source": [
    "knn = KNeighborsClassifier(n_neighbors=1000)\n",
    "print('Begin fitting')\n",
    "knn.fit(dev_data[:,knnCols], dev_labels)\n",
    "print('Completed fitting')\n",
    "print('Begin prediction')\n",
    "predicted = knn.predict_proba(dev_test_data[:,knnCols])\n",
    "print('Completed prediction')\n",
    "print metrics.log_loss(dev_test_labels, predicted, labels=range(0,39))"
   ]
  },
  {
   "cell_type": "markdown",
   "metadata": {},
   "source": [
    "### Random Forest"
   ]
  },
  {
   "cell_type": "code",
   "execution_count": 25,
   "metadata": {
    "collapsed": false,
    "scrolled": true
   },
   "outputs": [
    {
     "name": "stdout",
     "output_type": "stream",
     "text": [
      "Begin fitting\n",
      "Completed fitting\n",
      "Begin prediction\n",
      "Completed prediction\n",
      "5.40518640588\n"
     ]
    }
   ],
   "source": [
    "rfc = RandomForestClassifier(n_estimators=100)\n",
    "print('Begin fitting')\n",
    "rfc.fit(dev_data[:,knnCols],dev_labels)\n",
    "print('Completed fitting')\n",
    "print('Begin prediction')\n",
    "predicted = rfc.predict_proba(dev_test_data[:,knnCols])\n",
    "print('Completed prediction')\n",
    "print metrics.log_loss(dev_test_labels, predicted, labels=range(0,39))"
   ]
  },
  {
   "cell_type": "markdown",
   "metadata": {},
   "source": [
    "### Naive Bayes\n",
    "#### Bernoulli\n",
    "Bernoulli Naive Bayes is suited towards discrete data, specifically binary. \n",
    "The data for this problem is binary in a category vs all so it may be a good fit."
   ]
  },
  {
   "cell_type": "code",
   "execution_count": 11,
   "metadata": {
    "collapsed": false
   },
   "outputs": [
    {
     "name": "stdout",
     "output_type": "stream",
     "text": [
      "GridSearchCV(cv=None, error_score='raise',\n",
      "       estimator=BernoulliNB(alpha=1.0, binarize=0.0, class_prior=None, fit_prior=True),\n",
      "       fit_params={}, iid=True, n_jobs=1,\n",
      "       param_grid={'alpha': [0.001, 0.01, 0.1, 0.5, 1, 10]},\n",
      "       pre_dispatch='2*n_jobs', refit=True, return_train_score=True,\n",
      "       scoring='neg_log_loss', verbose=0)\n",
      "{'scoring': 'neg_log_loss', 'n_jobs': 1, 'verbose': 0, 'fit_params': {}, 'refit': True, 'return_train_score': True, 'iid': True, 'estimator': BernoulliNB(alpha=1.0, binarize=0.0, class_prior=None, fit_prior=True), 'error_score': 'raise', 'pre_dispatch': '2*n_jobs', 'param_grid': {'alpha': [0.001, 0.01, 0.1, 0.5, 1, 10]}, 'cv': None}\n",
      "{'alpha': 1}\n"
     ]
    }
   ],
   "source": [
    "a_values = [0.001, 0.01, 0.1, 0.5, 1, 10]\n",
    "params = {'alpha': a_values}\n",
    "grid = GridSearchCV(estimator=BernoulliNB(), param_grid=params, scoring='neg_log_loss')\n",
    "grid.fit(dev_data[:,cols], dev_labels)\n",
    "print grid\n",
    "print grid.best_params_"
   ]
  },
  {
   "cell_type": "code",
   "execution_count": 26,
   "metadata": {
    "collapsed": false
   },
   "outputs": [
    {
     "name": "stdout",
     "output_type": "stream",
     "text": [
      "Begin fitting\n",
      "Completed fitting\n",
      "Begin prediction\n",
      "Completed prediction\n",
      "2.57820570417\n"
     ]
    }
   ],
   "source": [
    "bnb = BernoulliNB(alpha=1)\n",
    "print('Begin fitting')\n",
    "bnb.fit(dev_data[:,cols], dev_labels)\n",
    "print('Completed fitting')\n",
    "print('Begin prediction')\n",
    "predicted = bnb.predict_proba(dev_test_data[:,cols])\n",
    "print('Completed prediction')\n",
    "print metrics.log_loss(dev_test_labels, predicted, labels=range(0,39))"
   ]
  },
  {
   "cell_type": "markdown",
   "metadata": {},
   "source": [
    "#### Gaussian\n",
    "Gaussian distribution may not apply since distributions aren't necessarily normally distributed."
   ]
  },
  {
   "cell_type": "code",
   "execution_count": 28,
   "metadata": {
    "collapsed": false
   },
   "outputs": [
    {
     "name": "stdout",
     "output_type": "stream",
     "text": [
      "Begin fitting\n",
      "Completed fitting\n",
      "Begin prediction\n",
      "Completed prediction\n",
      "3.48031855574\n"
     ]
    }
   ],
   "source": [
    "gnb = GaussianNB()\n",
    "print('Begin fitting')\n",
    "gnb.fit(dev_data[:,knnCols], dev_labels)\n",
    "print('Completed fitting')\n",
    "print('Begin prediction')\n",
    "predicted = gnb.predict_proba(dev_test_data[:,knnCols])\n",
    "print('Completed prediction')\n",
    "print metrics.log_loss(dev_test_labels, predicted, labels=range(0,39))"
   ]
  },
  {
   "cell_type": "code",
   "execution_count": 31,
   "metadata": {
    "collapsed": false
   },
   "outputs": [
    {
     "name": "stdout",
     "output_type": "stream",
     "text": [
      "[  1.03000000e+03   5.14440000e+04   2.50000000e+02   2.04000000e+02\n",
      "   2.46480000e+04   2.81700000e+03   1.50100000e+03   3.62040000e+04\n",
      "   2.84900000e+03   7.98000000e+02   1.58000000e+02   3.09000000e+02\n",
      "   7.09800000e+03   1.12250000e+04   1.00000000e+02   1.52700000e+03\n",
      "   1.17144000e+05   1.26000000e+03   8.14000000e+02   1.74750000e+04\n",
      "   6.19100000e+04   8.46100000e+04   1.30000000e+01   5.01700000e+03\n",
      "   2.14400000e+03   1.54550000e+04   1.28600000e+03   6.60100000e+03\n",
      "   2.94700000e+03   9.30000000e+01   3.03700000e+03   3.44000000e+02\n",
      "   2.12050000e+04   3.00000000e+00   4.86500000e+03   2.99640000e+04\n",
      "   3.59390000e+04   2.82670000e+04   5.73700000e+03]\n",
      "[[ -122.41908622    37.75712268  2008.53398058     6.2631068     15.50485437\n",
      "     11.29708738]\n",
      " [ -122.42113768    37.76802068  2008.65455641     6.44382241\n",
      "     15.55124018    12.7503499 ]\n",
      " [ -122.42476161    37.76937347  2006.816          6.596         14.356\n",
      "     10.38      ]\n",
      " [ -122.41781703    37.75341521  2009.31862745     6.56372549\n",
      "     17.52941176    13.76470588]\n",
      " [ -122.42637301    37.77002053  2008.55546089     6.52466732\n",
      "     15.81690198    12.91776209]\n",
      " [ -122.41937007    37.79065953  2008.16826411     6.30635428\n",
      "     15.84025559    10.59637913]\n",
      " [ -122.43038556    37.7662289   2009.39173884     6.56362425\n",
      "     15.57628248    11.00999334]\n",
      " [ -122.41759484    37.77097095  2008.11194896     6.270274      15.30485582\n",
      "     14.08689648]\n",
      " [ -122.42166543    37.77083362  2008.74587575     6.50930151    15.2955423\n",
      "     12.77465777]\n",
      " [ -122.42074179    37.77025661  2008.05263158     6.65162907\n",
      "     14.04761905    10.1641604 ]\n",
      " [ -122.43038654    37.7653689   2008.49367089     6.13291139\n",
      "     15.48101266    11.19620253]\n",
      " [ -122.41970309    37.75731182  2008.21359223     6.5987055     15.52750809\n",
      "     13.39482201]\n",
      " [ -122.42548797    37.76737253  2007.39151874     6.46844181\n",
      "     14.96252465    11.32657087]\n",
      " [ -122.42567893    37.77079348  2008.71554566     6.44436526\n",
      "     15.18939866    11.74877506]\n",
      " [ -122.41583102    37.76253754  2008.03           6.3           15.02\n",
      "     13.        ]\n",
      " [ -122.42191493    37.76068488  2009.24034054     6.66273739\n",
      "     15.17354289    12.14407335]\n",
      " [ -122.42246073    37.77708649  2009.17076419     6.51544253\n",
      "     15.84159667    14.40307656]\n",
      " [ -122.42227394    37.76681495  2008.16904762     5.97619048\n",
      "     15.66904762    14.46984127]\n",
      " [ -122.41613654    37.77346326  2007.45823096     6.43243243\n",
      "     15.84398034    12.10933661]\n",
      " [ -122.42517244    37.75524679  2008.94065808     6.48818312\n",
      "     15.46174535    13.19753934]\n",
      " [ -122.42395195    37.77150177  2009.20663867     6.45583912\n",
      "     15.36305928    13.07691811]\n",
      " [ -122.42083417    37.77205739  2008.6782177      6.31292991\n",
      "     15.44537289    13.10972698]\n",
      " [ -122.4240599     37.7731224   2005.92307692     7.53846154\n",
      "     13.38461538    10.69230769]\n",
      " [ -122.41793099    37.7737896   2007.64221646     6.45864062\n",
      "     15.84253538    13.38190153]\n",
      " [ -122.42036937    37.75320159  2009.09608209     6.68843284\n",
      "     16.03031716    12.20102612]\n",
      " [ -122.42100813    37.7638686   2008.75988353     6.52384342    15.9496603\n",
      "     12.98466516]\n",
      " [ -122.43148973    37.75176528  2008.0933126      6.32503888\n",
      "     15.59020218    13.84292379]\n",
      " [ -122.42273563    37.75905493  2009.32676867     6.37903348\n",
      "     15.35752159    12.90062112]\n",
      " [ -122.42281609    37.78186649  2008.97930098     6.36409908\n",
      "     15.02714625    11.41364099]\n",
      " [ -122.42356013    37.75325917  2008.79569892     5.76344086\n",
      "     13.69892473    11.75268817]\n",
      " [ -122.42143745    37.7700079   2009.51267698     6.46394468\n",
      "     15.62462957    13.15969707]\n",
      " [ -122.43201204    37.76447945  2008.09593023     6.67732558\n",
      "     15.97674419    12.70930233]\n",
      " [ -122.4248329     37.7696353   2009.01980665     6.49167649\n",
      "     15.30860646    12.65338364]\n",
      " [ -122.39765847    37.75601162  2013.33333333     7.66666667\n",
      "     17.66666667    14.66666667]\n",
      " [ -122.41786764    37.77113982  2008.62877698     6.41911614\n",
      "     15.63371017    11.97574512]\n",
      " [ -122.42645278    37.763618    2008.77386197     6.48097717\n",
      "     15.72236684    13.58910693]\n",
      " [ -122.42904918    37.76989227  2007.30265172     6.55627591\n",
      "     15.72993127    14.77467375]\n",
      " [ -122.41751018    37.78021733  2008.47390951     6.27654155\n",
      "     15.48215233    13.2405632 ]\n",
      " [ -122.41869058    37.75903649  2008.95764337     6.39759456\n",
      "     15.44762071    13.57137877]]\n",
      "[[  8.79227404e-04   7.39521653e-04   1.40488454e+01   1.13259205e+01\n",
      "    7.37334717e+01   6.40476615e+01]\n",
      " [  9.12900842e-04   2.12798263e-01   1.29197599e+01   1.16326617e+01\n",
      "    7.79635319e+01   4.86786554e+01]\n",
      " [  6.94662368e-04   5.77910912e-04   1.00461441e+01   1.23527841e+01\n",
      "    7.74532641e+01   3.55876001e+01]\n",
      " [  6.73428576e-04   5.95865654e-04   1.21190649e+01   1.21086842e+01\n",
      "    7.77491350e+01   4.59936564e+01]\n",
      " [  8.89965239e-04   1.11313941e-01   1.33270929e+01   1.19607678e+01\n",
      "    7.57206540e+01   4.07918819e+01]\n",
      " [  1.71043638e-03   9.68341872e-01   1.08463767e+01   1.13882203e+01\n",
      "    7.95328773e+01   4.45751094e+01]\n",
      " [  7.99167640e-04   5.27290003e-04   1.05900451e+01   1.21380240e+01\n",
      "    7.91462464e+01   8.69719189e+01]\n",
      " [  3.14671227e-04   3.78431774e-04   1.09398761e+01   1.18220741e+01\n",
      "    7.72500362e+01   3.29327319e+01]\n",
      " [  5.71473745e-04   4.42178136e-04   1.24878955e+01   1.14040027e+01\n",
      "    8.04230093e+01   6.50127520e+01]\n",
      " [  6.16321459e-04   5.85528935e-04   1.20448490e+01   1.25252543e+01\n",
      "    9.29526197e+01   4.11522494e+01]\n",
      " [  9.40228069e-04   7.33248889e-04   1.05664157e+01   1.01025878e+01\n",
      "    7.79078674e+01   4.45247958e+01]\n",
      " [  6.90527981e-04   6.27509032e-04   1.35401390e+01   1.28033641e+01\n",
      "    7.36214117e+01   3.67502645e+01]\n",
      " [  7.30711397e-04   5.87458851e-04   9.82543956e+00   1.18038083e+01\n",
      "    8.07314782e+01   3.84318131e+01]\n",
      " [  7.20539638e-04   5.27917980e-04   1.34436292e+01   1.18319383e+01\n",
      "    7.93971794e+01   4.30257057e+01]\n",
      " [  6.10467527e-04   8.47051508e-04   1.17291001e+01   9.39000008e+00\n",
      "    6.50796001e+01   2.56400001e+01]\n",
      " [  6.71472092e-04   7.07000984e-04   1.28479339e+01   1.17035428e+01\n",
      "    7.72580296e+01   5.41901139e+01]\n",
      " [  8.71670170e-04   1.86737384e-01   1.36569696e+01   1.17401837e+01\n",
      "    7.58405951e+01   3.80864879e+01]\n",
      " [  5.83921748e-04   4.32192187e-04   1.05499944e+01   1.07660999e+01\n",
      "    7.68372960e+01   3.85824239e+01]\n",
      " [  2.40730444e-04   2.93372742e-04   7.73719891e+00   1.06066141e+01\n",
      "    7.66058791e+01   3.85396426e+01]\n",
      " [  8.02791347e-04   6.57021721e-04   1.25765645e+01   1.19184155e+01\n",
      "    7.84342877e+01   3.25580598e+01]\n",
      " [  7.88223328e-04   8.86390477e-02   1.35896863e+01   1.16140651e+01\n",
      "    7.82299551e+01   3.79009162e+01]\n",
      " [  1.16482482e-03   4.19769990e-01   1.25205196e+01   1.18553311e+01\n",
      "    7.72080135e+01   4.34214076e+01]\n",
      " [  6.45436966e-04   2.25453214e-04   3.91715984e+00   9.78698233e+00\n",
      "    7.86982249e+01   3.34437871e+01]\n",
      " [  8.03240177e-05   2.00484900e-04   1.01077893e+01   1.19740220e+01\n",
      "    7.53254143e+01   7.30740038e+01]\n",
      " [  7.14133882e-04   7.56952978e-04   5.70252204e+00   1.21380006e+01\n",
      "    7.62738011e+01   3.71895326e+01]\n",
      " [  5.06985319e-04   6.42467378e-04   1.25193095e+01   1.16980243e+01\n",
      "    7.57928720e+01   5.73929063e+01]\n",
      " [  6.91137791e-04   6.15738686e-04   1.22183535e+01   1.18445831e+01\n",
      "    7.68950518e+01   3.41152960e+01]\n",
      " [  7.86027962e-04   7.08735066e-04   1.22175671e+01   1.17175668e+01\n",
      "    7.91756173e+01   4.65667032e+01]\n",
      " [  1.94588907e-03   9.26200967e-01   1.32567824e+01   1.17015005e+01\n",
      "    8.30477871e+01   6.02011442e+01]\n",
      " [  6.14584015e-04   6.26132908e-04   1.27432074e+01   1.14279108e+01\n",
      "    8.56297839e+01   4.67452885e+01]\n",
      " [  5.08216078e-04   5.39093003e-04   1.34576102e+01   1.16520587e+01\n",
      "    7.33823108e+01   4.27387380e+01]\n",
      " [  1.01637648e-03   7.22270687e-04   1.17495184e+01   1.05034394e+01\n",
      "    8.28075988e+01   3.93689833e+01]\n",
      " [  1.14779130e-03   2.57945128e-01   1.23368867e+01   1.17379761e+01\n",
      "    7.89291432e+01   4.13482844e+01]\n",
      " [  2.33565955e-04   6.16474347e-04   1.55555563e+00   1.62222223e+01\n",
      "    1.24222222e+02   5.08888890e+01]\n",
      " [  5.18537478e-04   4.97590235e-04   1.31419469e+01   1.16305082e+01\n",
      "    7.66699428e+01   3.61564519e+01]\n",
      " [  8.26343085e-04   6.66916846e-04   1.22769220e+01   1.17386917e+01\n",
      "    7.79185480e+01   5.38780899e+01]\n",
      " [  1.53181540e-03   5.32123343e-01   1.41875138e+01   1.16654591e+01\n",
      "    7.59434797e+01   4.30956707e+01]\n",
      " [  1.19213696e-03   5.79402419e-01   1.37686175e+01   1.17308266e+01\n",
      "    7.54471910e+01   3.97374384e+01]\n",
      " [  6.27148213e-04   6.91329528e-04   1.28559714e+01   1.17036931e+01\n",
      "    7.86251543e+01   4.58795574e+01]]\n"
     ]
    }
   ],
   "source": [
    "print gnb.class_count_\n",
    "print gnb.theta_\n",
    "print gnb.sigma_"
   ]
  },
  {
   "cell_type": "markdown",
   "metadata": {},
   "source": [
    "### GaussianMixture\n",
    "This didn't really work... I had too many components so we can probably remove in favor of Yun-Hui's work on this subject."
   ]
  },
  {
   "cell_type": "code",
   "execution_count": null,
   "metadata": {
    "collapsed": true
   },
   "outputs": [],
   "source": [
    "gmm = GaussianMixture(32)\n",
    "gmm.fit(dev_data[:5000,cols], dev_labels[:5000])\n",
    "predicted = gmm.predict_proba(dev_test_data[:,cols])\n",
    "print('Completed prediction')\n",
    "print metrics.log_loss(dev_test_labels, predicted, labels=range(0,39))"
   ]
  },
  {
   "cell_type": "code",
   "execution_count": 62,
   "metadata": {
    "collapsed": false
   },
   "outputs": [
    {
     "ename": "ValueError",
     "evalue": "y_true and y_pred contain different number of classes 35, 31. Please provide the true labels explicitly through the labels argument. Classes found in y_true: [ 0  1  2  3  4  5  6  7  8  9 10 11 12 13 15 16 17 18 19 20 21 23 24 25 26\n 27 28 30 31 32 34 35 36 37 38]",
     "output_type": "error",
     "traceback": [
      "\u001b[0;31m---------------------------------------------------------------------------\u001b[0m",
      "\u001b[0;31mValueError\u001b[0m                                Traceback (most recent call last)",
      "\u001b[0;32m<ipython-input-62-6d552e7324b0>\u001b[0m in \u001b[0;36m<module>\u001b[0;34m()\u001b[0m\n\u001b[1;32m      4\u001b[0m \u001b[0mparams\u001b[0m \u001b[0;34m=\u001b[0m \u001b[0;34m{\u001b[0m\u001b[0;34m'n_components'\u001b[0m\u001b[0;34m:\u001b[0m \u001b[0mcomponents\u001b[0m\u001b[0;34m,\u001b[0m \u001b[0;34m'covariance_type'\u001b[0m\u001b[0;34m:\u001b[0m \u001b[0mcov_types\u001b[0m\u001b[0;34m,\u001b[0m \u001b[0;34m'tol'\u001b[0m\u001b[0;34m:\u001b[0m \u001b[0mtolerances\u001b[0m\u001b[0;34m}\u001b[0m\u001b[0;34m\u001b[0m\u001b[0m\n\u001b[1;32m      5\u001b[0m \u001b[0mgrid\u001b[0m \u001b[0;34m=\u001b[0m \u001b[0mGridSearchCV\u001b[0m\u001b[0;34m(\u001b[0m\u001b[0mestimator\u001b[0m\u001b[0;34m=\u001b[0m\u001b[0mGaussianMixture\u001b[0m\u001b[0;34m(\u001b[0m\u001b[0;34m)\u001b[0m\u001b[0;34m,\u001b[0m \u001b[0mparam_grid\u001b[0m\u001b[0;34m=\u001b[0m\u001b[0mparams\u001b[0m\u001b[0;34m,\u001b[0m \u001b[0mscoring\u001b[0m\u001b[0;34m=\u001b[0m\u001b[0;34m'neg_log_loss'\u001b[0m\u001b[0;34m)\u001b[0m\u001b[0;34m\u001b[0m\u001b[0m\n\u001b[0;32m----> 6\u001b[0;31m \u001b[0mgrid\u001b[0m\u001b[0;34m.\u001b[0m\u001b[0mfit\u001b[0m\u001b[0;34m(\u001b[0m\u001b[0mdev_data\u001b[0m\u001b[0;34m[\u001b[0m\u001b[0;34m:\u001b[0m\u001b[0;36m5000\u001b[0m\u001b[0;34m,\u001b[0m\u001b[0mcols\u001b[0m\u001b[0;34m]\u001b[0m\u001b[0;34m,\u001b[0m \u001b[0mdev_labels\u001b[0m\u001b[0;34m[\u001b[0m\u001b[0;34m:\u001b[0m\u001b[0;36m5000\u001b[0m\u001b[0;34m]\u001b[0m\u001b[0;34m)\u001b[0m\u001b[0;34m\u001b[0m\u001b[0m\n\u001b[0m\u001b[1;32m      7\u001b[0m \u001b[0;32mprint\u001b[0m \u001b[0mgrid\u001b[0m\u001b[0;34m\u001b[0m\u001b[0m\n\u001b[1;32m      8\u001b[0m \u001b[0;32mprint\u001b[0m \u001b[0mgrid\u001b[0m\u001b[0;34m.\u001b[0m\u001b[0mbest_params_\u001b[0m\u001b[0;34m\u001b[0m\u001b[0m\n",
      "\u001b[0;32m/usr/local/lib/python2.7/site-packages/sklearn/model_selection/_search.pyc\u001b[0m in \u001b[0;36mfit\u001b[0;34m(self, X, y, groups)\u001b[0m\n\u001b[1;32m    938\u001b[0m             \u001b[0mtrain\u001b[0m\u001b[0;34m/\u001b[0m\u001b[0mtest\u001b[0m \u001b[0mset\u001b[0m\u001b[0;34m.\u001b[0m\u001b[0;34m\u001b[0m\u001b[0m\n\u001b[1;32m    939\u001b[0m         \"\"\"\n\u001b[0;32m--> 940\u001b[0;31m         \u001b[0;32mreturn\u001b[0m \u001b[0mself\u001b[0m\u001b[0;34m.\u001b[0m\u001b[0m_fit\u001b[0m\u001b[0;34m(\u001b[0m\u001b[0mX\u001b[0m\u001b[0;34m,\u001b[0m \u001b[0my\u001b[0m\u001b[0;34m,\u001b[0m \u001b[0mgroups\u001b[0m\u001b[0;34m,\u001b[0m \u001b[0mParameterGrid\u001b[0m\u001b[0;34m(\u001b[0m\u001b[0mself\u001b[0m\u001b[0;34m.\u001b[0m\u001b[0mparam_grid\u001b[0m\u001b[0;34m)\u001b[0m\u001b[0;34m)\u001b[0m\u001b[0;34m\u001b[0m\u001b[0m\n\u001b[0m\u001b[1;32m    941\u001b[0m \u001b[0;34m\u001b[0m\u001b[0m\n\u001b[1;32m    942\u001b[0m \u001b[0;34m\u001b[0m\u001b[0m\n",
      "\u001b[0;32m/usr/local/lib/python2.7/site-packages/sklearn/model_selection/_search.pyc\u001b[0m in \u001b[0;36m_fit\u001b[0;34m(self, X, y, groups, parameter_iterable)\u001b[0m\n\u001b[1;32m    560\u001b[0m                                   \u001b[0mreturn_times\u001b[0m\u001b[0;34m=\u001b[0m\u001b[0mTrue\u001b[0m\u001b[0;34m,\u001b[0m \u001b[0mreturn_parameters\u001b[0m\u001b[0;34m=\u001b[0m\u001b[0mTrue\u001b[0m\u001b[0;34m,\u001b[0m\u001b[0;34m\u001b[0m\u001b[0m\n\u001b[1;32m    561\u001b[0m                                   error_score=self.error_score)\n\u001b[0;32m--> 562\u001b[0;31m           \u001b[0;32mfor\u001b[0m \u001b[0mparameters\u001b[0m \u001b[0;32min\u001b[0m \u001b[0mparameter_iterable\u001b[0m\u001b[0;34m\u001b[0m\u001b[0m\n\u001b[0m\u001b[1;32m    563\u001b[0m           for train, test in cv.split(X, y, groups))\n\u001b[1;32m    564\u001b[0m \u001b[0;34m\u001b[0m\u001b[0m\n",
      "\u001b[0;32m/usr/local/lib/python2.7/site-packages/sklearn/externals/joblib/parallel.pyc\u001b[0m in \u001b[0;36m__call__\u001b[0;34m(self, iterable)\u001b[0m\n\u001b[1;32m    756\u001b[0m             \u001b[0;31m# was dispatched. In particular this covers the edge\u001b[0m\u001b[0;34m\u001b[0m\u001b[0;34m\u001b[0m\u001b[0m\n\u001b[1;32m    757\u001b[0m             \u001b[0;31m# case of Parallel used with an exhausted iterator.\u001b[0m\u001b[0;34m\u001b[0m\u001b[0;34m\u001b[0m\u001b[0m\n\u001b[0;32m--> 758\u001b[0;31m             \u001b[0;32mwhile\u001b[0m \u001b[0mself\u001b[0m\u001b[0;34m.\u001b[0m\u001b[0mdispatch_one_batch\u001b[0m\u001b[0;34m(\u001b[0m\u001b[0miterator\u001b[0m\u001b[0;34m)\u001b[0m\u001b[0;34m:\u001b[0m\u001b[0;34m\u001b[0m\u001b[0m\n\u001b[0m\u001b[1;32m    759\u001b[0m                 \u001b[0mself\u001b[0m\u001b[0;34m.\u001b[0m\u001b[0m_iterating\u001b[0m \u001b[0;34m=\u001b[0m \u001b[0mTrue\u001b[0m\u001b[0;34m\u001b[0m\u001b[0m\n\u001b[1;32m    760\u001b[0m             \u001b[0;32melse\u001b[0m\u001b[0;34m:\u001b[0m\u001b[0;34m\u001b[0m\u001b[0m\n",
      "\u001b[0;32m/usr/local/lib/python2.7/site-packages/sklearn/externals/joblib/parallel.pyc\u001b[0m in \u001b[0;36mdispatch_one_batch\u001b[0;34m(self, iterator)\u001b[0m\n\u001b[1;32m    606\u001b[0m                 \u001b[0;32mreturn\u001b[0m \u001b[0mFalse\u001b[0m\u001b[0;34m\u001b[0m\u001b[0m\n\u001b[1;32m    607\u001b[0m             \u001b[0;32melse\u001b[0m\u001b[0;34m:\u001b[0m\u001b[0;34m\u001b[0m\u001b[0m\n\u001b[0;32m--> 608\u001b[0;31m                 \u001b[0mself\u001b[0m\u001b[0;34m.\u001b[0m\u001b[0m_dispatch\u001b[0m\u001b[0;34m(\u001b[0m\u001b[0mtasks\u001b[0m\u001b[0;34m)\u001b[0m\u001b[0;34m\u001b[0m\u001b[0m\n\u001b[0m\u001b[1;32m    609\u001b[0m                 \u001b[0;32mreturn\u001b[0m \u001b[0mTrue\u001b[0m\u001b[0;34m\u001b[0m\u001b[0m\n\u001b[1;32m    610\u001b[0m \u001b[0;34m\u001b[0m\u001b[0m\n",
      "\u001b[0;32m/usr/local/lib/python2.7/site-packages/sklearn/externals/joblib/parallel.pyc\u001b[0m in \u001b[0;36m_dispatch\u001b[0;34m(self, batch)\u001b[0m\n\u001b[1;32m    569\u001b[0m         \u001b[0mdispatch_timestamp\u001b[0m \u001b[0;34m=\u001b[0m \u001b[0mtime\u001b[0m\u001b[0;34m.\u001b[0m\u001b[0mtime\u001b[0m\u001b[0;34m(\u001b[0m\u001b[0;34m)\u001b[0m\u001b[0;34m\u001b[0m\u001b[0m\n\u001b[1;32m    570\u001b[0m         \u001b[0mcb\u001b[0m \u001b[0;34m=\u001b[0m \u001b[0mBatchCompletionCallBack\u001b[0m\u001b[0;34m(\u001b[0m\u001b[0mdispatch_timestamp\u001b[0m\u001b[0;34m,\u001b[0m \u001b[0mlen\u001b[0m\u001b[0;34m(\u001b[0m\u001b[0mbatch\u001b[0m\u001b[0;34m)\u001b[0m\u001b[0;34m,\u001b[0m \u001b[0mself\u001b[0m\u001b[0;34m)\u001b[0m\u001b[0;34m\u001b[0m\u001b[0m\n\u001b[0;32m--> 571\u001b[0;31m         \u001b[0mjob\u001b[0m \u001b[0;34m=\u001b[0m \u001b[0mself\u001b[0m\u001b[0;34m.\u001b[0m\u001b[0m_backend\u001b[0m\u001b[0;34m.\u001b[0m\u001b[0mapply_async\u001b[0m\u001b[0;34m(\u001b[0m\u001b[0mbatch\u001b[0m\u001b[0;34m,\u001b[0m \u001b[0mcallback\u001b[0m\u001b[0;34m=\u001b[0m\u001b[0mcb\u001b[0m\u001b[0;34m)\u001b[0m\u001b[0;34m\u001b[0m\u001b[0m\n\u001b[0m\u001b[1;32m    572\u001b[0m         \u001b[0mself\u001b[0m\u001b[0;34m.\u001b[0m\u001b[0m_jobs\u001b[0m\u001b[0;34m.\u001b[0m\u001b[0mappend\u001b[0m\u001b[0;34m(\u001b[0m\u001b[0mjob\u001b[0m\u001b[0;34m)\u001b[0m\u001b[0;34m\u001b[0m\u001b[0m\n\u001b[1;32m    573\u001b[0m \u001b[0;34m\u001b[0m\u001b[0m\n",
      "\u001b[0;32m/usr/local/lib/python2.7/site-packages/sklearn/externals/joblib/_parallel_backends.pyc\u001b[0m in \u001b[0;36mapply_async\u001b[0;34m(self, func, callback)\u001b[0m\n\u001b[1;32m    107\u001b[0m     \u001b[0;32mdef\u001b[0m \u001b[0mapply_async\u001b[0m\u001b[0;34m(\u001b[0m\u001b[0mself\u001b[0m\u001b[0;34m,\u001b[0m \u001b[0mfunc\u001b[0m\u001b[0;34m,\u001b[0m \u001b[0mcallback\u001b[0m\u001b[0;34m=\u001b[0m\u001b[0mNone\u001b[0m\u001b[0;34m)\u001b[0m\u001b[0;34m:\u001b[0m\u001b[0;34m\u001b[0m\u001b[0m\n\u001b[1;32m    108\u001b[0m         \u001b[0;34m\"\"\"Schedule a func to be run\"\"\"\u001b[0m\u001b[0;34m\u001b[0m\u001b[0m\n\u001b[0;32m--> 109\u001b[0;31m         \u001b[0mresult\u001b[0m \u001b[0;34m=\u001b[0m \u001b[0mImmediateResult\u001b[0m\u001b[0;34m(\u001b[0m\u001b[0mfunc\u001b[0m\u001b[0;34m)\u001b[0m\u001b[0;34m\u001b[0m\u001b[0m\n\u001b[0m\u001b[1;32m    110\u001b[0m         \u001b[0;32mif\u001b[0m \u001b[0mcallback\u001b[0m\u001b[0;34m:\u001b[0m\u001b[0;34m\u001b[0m\u001b[0m\n\u001b[1;32m    111\u001b[0m             \u001b[0mcallback\u001b[0m\u001b[0;34m(\u001b[0m\u001b[0mresult\u001b[0m\u001b[0;34m)\u001b[0m\u001b[0;34m\u001b[0m\u001b[0m\n",
      "\u001b[0;32m/usr/local/lib/python2.7/site-packages/sklearn/externals/joblib/_parallel_backends.pyc\u001b[0m in \u001b[0;36m__init__\u001b[0;34m(self, batch)\u001b[0m\n\u001b[1;32m    320\u001b[0m         \u001b[0;31m# Don't delay the application, to avoid keeping the input\u001b[0m\u001b[0;34m\u001b[0m\u001b[0;34m\u001b[0m\u001b[0m\n\u001b[1;32m    321\u001b[0m         \u001b[0;31m# arguments in memory\u001b[0m\u001b[0;34m\u001b[0m\u001b[0;34m\u001b[0m\u001b[0m\n\u001b[0;32m--> 322\u001b[0;31m         \u001b[0mself\u001b[0m\u001b[0;34m.\u001b[0m\u001b[0mresults\u001b[0m \u001b[0;34m=\u001b[0m \u001b[0mbatch\u001b[0m\u001b[0;34m(\u001b[0m\u001b[0;34m)\u001b[0m\u001b[0;34m\u001b[0m\u001b[0m\n\u001b[0m\u001b[1;32m    323\u001b[0m \u001b[0;34m\u001b[0m\u001b[0m\n\u001b[1;32m    324\u001b[0m     \u001b[0;32mdef\u001b[0m \u001b[0mget\u001b[0m\u001b[0;34m(\u001b[0m\u001b[0mself\u001b[0m\u001b[0;34m)\u001b[0m\u001b[0;34m:\u001b[0m\u001b[0;34m\u001b[0m\u001b[0m\n",
      "\u001b[0;32m/usr/local/lib/python2.7/site-packages/sklearn/externals/joblib/parallel.pyc\u001b[0m in \u001b[0;36m__call__\u001b[0;34m(self)\u001b[0m\n\u001b[1;32m    129\u001b[0m \u001b[0;34m\u001b[0m\u001b[0m\n\u001b[1;32m    130\u001b[0m     \u001b[0;32mdef\u001b[0m \u001b[0m__call__\u001b[0m\u001b[0;34m(\u001b[0m\u001b[0mself\u001b[0m\u001b[0;34m)\u001b[0m\u001b[0;34m:\u001b[0m\u001b[0;34m\u001b[0m\u001b[0m\n\u001b[0;32m--> 131\u001b[0;31m         \u001b[0;32mreturn\u001b[0m \u001b[0;34m[\u001b[0m\u001b[0mfunc\u001b[0m\u001b[0;34m(\u001b[0m\u001b[0;34m*\u001b[0m\u001b[0margs\u001b[0m\u001b[0;34m,\u001b[0m \u001b[0;34m**\u001b[0m\u001b[0mkwargs\u001b[0m\u001b[0;34m)\u001b[0m \u001b[0;32mfor\u001b[0m \u001b[0mfunc\u001b[0m\u001b[0;34m,\u001b[0m \u001b[0margs\u001b[0m\u001b[0;34m,\u001b[0m \u001b[0mkwargs\u001b[0m \u001b[0;32min\u001b[0m \u001b[0mself\u001b[0m\u001b[0;34m.\u001b[0m\u001b[0mitems\u001b[0m\u001b[0;34m]\u001b[0m\u001b[0;34m\u001b[0m\u001b[0m\n\u001b[0m\u001b[1;32m    132\u001b[0m \u001b[0;34m\u001b[0m\u001b[0m\n\u001b[1;32m    133\u001b[0m     \u001b[0;32mdef\u001b[0m \u001b[0m__len__\u001b[0m\u001b[0;34m(\u001b[0m\u001b[0mself\u001b[0m\u001b[0;34m)\u001b[0m\u001b[0;34m:\u001b[0m\u001b[0;34m\u001b[0m\u001b[0m\n",
      "\u001b[0;32m/usr/local/lib/python2.7/site-packages/sklearn/model_selection/_validation.pyc\u001b[0m in \u001b[0;36m_fit_and_score\u001b[0;34m(estimator, X, y, scorer, train, test, verbose, parameters, fit_params, return_train_score, return_parameters, return_n_test_samples, return_times, error_score)\u001b[0m\n\u001b[1;32m    261\u001b[0m         \u001b[0mscore_time\u001b[0m \u001b[0;34m=\u001b[0m \u001b[0mtime\u001b[0m\u001b[0;34m.\u001b[0m\u001b[0mtime\u001b[0m\u001b[0;34m(\u001b[0m\u001b[0;34m)\u001b[0m \u001b[0;34m-\u001b[0m \u001b[0mstart_time\u001b[0m \u001b[0;34m-\u001b[0m \u001b[0mfit_time\u001b[0m\u001b[0;34m\u001b[0m\u001b[0m\n\u001b[1;32m    262\u001b[0m         \u001b[0;32mif\u001b[0m \u001b[0mreturn_train_score\u001b[0m\u001b[0;34m:\u001b[0m\u001b[0;34m\u001b[0m\u001b[0m\n\u001b[0;32m--> 263\u001b[0;31m             \u001b[0mtrain_score\u001b[0m \u001b[0;34m=\u001b[0m \u001b[0m_score\u001b[0m\u001b[0;34m(\u001b[0m\u001b[0mestimator\u001b[0m\u001b[0;34m,\u001b[0m \u001b[0mX_train\u001b[0m\u001b[0;34m,\u001b[0m \u001b[0my_train\u001b[0m\u001b[0;34m,\u001b[0m \u001b[0mscorer\u001b[0m\u001b[0;34m)\u001b[0m\u001b[0;34m\u001b[0m\u001b[0m\n\u001b[0m\u001b[1;32m    264\u001b[0m \u001b[0;34m\u001b[0m\u001b[0m\n\u001b[1;32m    265\u001b[0m     \u001b[0;32mif\u001b[0m \u001b[0mverbose\u001b[0m \u001b[0;34m>\u001b[0m \u001b[0;36m2\u001b[0m\u001b[0;34m:\u001b[0m\u001b[0;34m\u001b[0m\u001b[0m\n",
      "\u001b[0;32m/usr/local/lib/python2.7/site-packages/sklearn/model_selection/_validation.pyc\u001b[0m in \u001b[0;36m_score\u001b[0;34m(estimator, X_test, y_test, scorer)\u001b[0m\n\u001b[1;32m    285\u001b[0m         \u001b[0mscore\u001b[0m \u001b[0;34m=\u001b[0m \u001b[0mscorer\u001b[0m\u001b[0;34m(\u001b[0m\u001b[0mestimator\u001b[0m\u001b[0;34m,\u001b[0m \u001b[0mX_test\u001b[0m\u001b[0;34m)\u001b[0m\u001b[0;34m\u001b[0m\u001b[0m\n\u001b[1;32m    286\u001b[0m     \u001b[0;32melse\u001b[0m\u001b[0;34m:\u001b[0m\u001b[0;34m\u001b[0m\u001b[0m\n\u001b[0;32m--> 287\u001b[0;31m         \u001b[0mscore\u001b[0m \u001b[0;34m=\u001b[0m \u001b[0mscorer\u001b[0m\u001b[0;34m(\u001b[0m\u001b[0mestimator\u001b[0m\u001b[0;34m,\u001b[0m \u001b[0mX_test\u001b[0m\u001b[0;34m,\u001b[0m \u001b[0my_test\u001b[0m\u001b[0;34m)\u001b[0m\u001b[0;34m\u001b[0m\u001b[0m\n\u001b[0m\u001b[1;32m    288\u001b[0m     \u001b[0;32mif\u001b[0m \u001b[0mhasattr\u001b[0m\u001b[0;34m(\u001b[0m\u001b[0mscore\u001b[0m\u001b[0;34m,\u001b[0m \u001b[0;34m'item'\u001b[0m\u001b[0;34m)\u001b[0m\u001b[0;34m:\u001b[0m\u001b[0;34m\u001b[0m\u001b[0m\n\u001b[1;32m    289\u001b[0m         \u001b[0;32mtry\u001b[0m\u001b[0;34m:\u001b[0m\u001b[0;34m\u001b[0m\u001b[0m\n",
      "\u001b[0;32m/usr/local/lib/python2.7/site-packages/sklearn/metrics/scorer.pyc\u001b[0m in \u001b[0;36m__call__\u001b[0;34m(self, clf, X, y, sample_weight)\u001b[0m\n\u001b[1;32m    132\u001b[0m                                                  **self._kwargs)\n\u001b[1;32m    133\u001b[0m         \u001b[0;32melse\u001b[0m\u001b[0;34m:\u001b[0m\u001b[0;34m\u001b[0m\u001b[0m\n\u001b[0;32m--> 134\u001b[0;31m             \u001b[0;32mreturn\u001b[0m \u001b[0mself\u001b[0m\u001b[0;34m.\u001b[0m\u001b[0m_sign\u001b[0m \u001b[0;34m*\u001b[0m \u001b[0mself\u001b[0m\u001b[0;34m.\u001b[0m\u001b[0m_score_func\u001b[0m\u001b[0;34m(\u001b[0m\u001b[0my\u001b[0m\u001b[0;34m,\u001b[0m \u001b[0my_pred\u001b[0m\u001b[0;34m,\u001b[0m \u001b[0;34m**\u001b[0m\u001b[0mself\u001b[0m\u001b[0;34m.\u001b[0m\u001b[0m_kwargs\u001b[0m\u001b[0;34m)\u001b[0m\u001b[0;34m\u001b[0m\u001b[0m\n\u001b[0m\u001b[1;32m    135\u001b[0m \u001b[0;34m\u001b[0m\u001b[0m\n\u001b[1;32m    136\u001b[0m     \u001b[0;32mdef\u001b[0m \u001b[0m_factory_args\u001b[0m\u001b[0;34m(\u001b[0m\u001b[0mself\u001b[0m\u001b[0;34m)\u001b[0m\u001b[0;34m:\u001b[0m\u001b[0;34m\u001b[0m\u001b[0m\n",
      "\u001b[0;32m/usr/local/lib/python2.7/site-packages/sklearn/metrics/classification.pyc\u001b[0m in \u001b[0;36mlog_loss\u001b[0;34m(y_true, y_pred, eps, normalize, sample_weight, labels)\u001b[0m\n\u001b[1;32m   1652\u001b[0m                              \"y_true: {2}\".format(transformed_labels.shape[1],\n\u001b[1;32m   1653\u001b[0m                                                   \u001b[0my_pred\u001b[0m\u001b[0;34m.\u001b[0m\u001b[0mshape\u001b[0m\u001b[0;34m[\u001b[0m\u001b[0;36m1\u001b[0m\u001b[0;34m]\u001b[0m\u001b[0;34m,\u001b[0m\u001b[0;34m\u001b[0m\u001b[0m\n\u001b[0;32m-> 1654\u001b[0;31m                                                   lb.classes_))\n\u001b[0m\u001b[1;32m   1655\u001b[0m         \u001b[0;32melse\u001b[0m\u001b[0;34m:\u001b[0m\u001b[0;34m\u001b[0m\u001b[0m\n\u001b[1;32m   1656\u001b[0m             raise ValueError('The number of classes in labels is different '\n",
      "\u001b[0;31mValueError\u001b[0m: y_true and y_pred contain different number of classes 35, 31. Please provide the true labels explicitly through the labels argument. Classes found in y_true: [ 0  1  2  3  4  5  6  7  8  9 10 11 12 13 15 16 17 18 19 20 21 23 24 25 26\n 27 28 30 31 32 34 35 36 37 38]"
     ]
    }
   ],
   "source": [
    "components = [31]\n",
    "cov_types = ['full']#,'tied','diag','spherical']\n",
    "tolerances = [0.0001]\n",
    "params = {'n_components': components, 'covariance_type': cov_types, 'tol': tolerances}\n",
    "grid = GridSearchCV(estimator=GaussianMixture(), param_grid=params, scoring='neg_log_loss')\n",
    "grid.fit(dev_data[:5000,cols], dev_labels[:5000])\n",
    "print grid\n",
    "print grid.best_params_"
   ]
  },
  {
   "cell_type": "markdown",
   "metadata": {},
   "source": [
    "## Final Model Predictions\n",
    "Here we take our best performing model and use it to generate predictions to submit to Kaggle for scoring."
   ]
  },
  {
   "cell_type": "code",
   "execution_count": null,
   "metadata": {
    "collapsed": true
   },
   "outputs": [],
   "source": [
    "#test_final = dateAttributes(test_final)"
   ]
  },
  {
   "cell_type": "code",
   "execution_count": 94,
   "metadata": {
    "collapsed": false
   },
   "outputs": [
    {
     "name": "stdout",
     "output_type": "stream",
     "text": [
      "Starting  Year\n",
      "Finished  Year\n",
      "Starting  Month\n",
      "Finished  Month\n",
      "Starting  Hour\n",
      "Finished  Hour\n",
      "Starting  DayOfWeek\n",
      "Finished  DayOfWeek\n",
      "Starting  PdDistrict\n",
      "Finished  PdDistrict\n"
     ]
    }
   ],
   "source": [
    "# Binarize columns in initial data processing above and add to dataframe\n",
    "for column in bin_cols:\n",
    "    print 'Starting ', column\n",
    "    dummies = pd.get_dummies(test_final[column])\n",
    "    test_final[dummies.columns] = dummies\n",
    "    print 'Finished ', column\n",
    "\n",
    "# Copy IDs fr each row in final test data just in case...\n",
    "ids = test_final['Id']\n",
    "\n",
    "# Convert final data data intl numpy object for processing\n",
    "test_final_data = np.array(test_final)"
   ]
  },
  {
   "cell_type": "code",
   "execution_count": 97,
   "metadata": {
    "collapsed": false
   },
   "outputs": [
    {
     "name": "stdout",
     "output_type": "stream",
     "text": [
      "[0.0 0.0 0.0 0.0 0.0 0.0 0.0 0.0 0.0 0.0 0.0 1.0 0.0 0.0 0.0 0.0 0.0 0.0\n",
      " 0.0 0.0 0.0 0.0 0.0 0.0 0.0 0.0 0.0 0.0 0.0 0.0 0.0 0.0 0.0 0.0 0.0 1.0\n",
      " 0.0 0.0 0.0 1.0 0.0 0.0 0.0 1.0 0.0 0.0 0.0 0.0 0.0 0.0 0.0 0.0 0.0]\n"
     ]
    }
   ],
   "source": [
    "print test_final_data[0,range(12,len(test_final.columns))]"
   ]
  },
  {
   "cell_type": "code",
   "execution_count": 98,
   "metadata": {
    "collapsed": false
   },
   "outputs": [
    {
     "name": "stdout",
     "output_type": "stream",
     "text": [
      "Beginning training\n",
      "Completed training\n"
     ]
    }
   ],
   "source": [
    "# Train final model on all training data available\n",
    "lgrFinal = LogisticRegression()\n",
    "\n",
    "print 'Beginning training'\n",
    "lgrFinal.fit(train_data_all[:,cols], labels_all)\n",
    "print 'Completed training'"
   ]
  },
  {
   "cell_type": "code",
   "execution_count": 101,
   "metadata": {
    "collapsed": false
   },
   "outputs": [
    {
     "name": "stdout",
     "output_type": "stream",
     "text": [
      "Begin prediction\n",
      "Completed training\n"
     ]
    },
    {
     "ename": "NameError",
     "evalue": "name 'cat' is not defined",
     "output_type": "error",
     "traceback": [
      "\u001b[0;31m---------------------------------------------------------------------------\u001b[0m",
      "\u001b[0;31mNameError\u001b[0m                                 Traceback (most recent call last)",
      "\u001b[0;32m<ipython-input-101-999a565bfb87>\u001b[0m in \u001b[0;36m<module>\u001b[0;34m()\u001b[0m\n\u001b[1;32m      3\u001b[0m \u001b[0;32mprint\u001b[0m \u001b[0;34m'Completed training'\u001b[0m\u001b[0;34m\u001b[0m\u001b[0m\n\u001b[1;32m      4\u001b[0m \u001b[0;34m\u001b[0m\u001b[0m\n\u001b[0;32m----> 5\u001b[0;31m \u001b[0moutput\u001b[0m \u001b[0;34m=\u001b[0m \u001b[0mpd\u001b[0m\u001b[0;34m.\u001b[0m\u001b[0mDataFrame\u001b[0m\u001b[0;34m(\u001b[0m\u001b[0mdata\u001b[0m\u001b[0;34m=\u001b[0m\u001b[0mpred_probs\u001b[0m\u001b[0;34m,\u001b[0m \u001b[0mindex\u001b[0m\u001b[0;34m=\u001b[0m\u001b[0mids\u001b[0m\u001b[0;34m,\u001b[0m \u001b[0mcolumns\u001b[0m\u001b[0;34m=\u001b[0m\u001b[0mcat\u001b[0m\u001b[0;34m(\u001b[0m\u001b[0;34m'Id'\u001b[0m\u001b[0;34m,\u001b[0m \u001b[0mcategories\u001b[0m\u001b[0;34m)\u001b[0m\u001b[0;34m)\u001b[0m\u001b[0;34m\u001b[0m\u001b[0m\n\u001b[0m\u001b[1;32m      6\u001b[0m \u001b[0;32mprint\u001b[0m \u001b[0;34m'Output example:'\u001b[0m\u001b[0;34m\u001b[0m\u001b[0m\n\u001b[1;32m      7\u001b[0m \u001b[0;32mprint\u001b[0m \u001b[0moutput\u001b[0m\u001b[0;34m.\u001b[0m\u001b[0mhead\u001b[0m\u001b[0;34m(\u001b[0m\u001b[0;36m5\u001b[0m\u001b[0;34m)\u001b[0m\u001b[0;34m\u001b[0m\u001b[0m\n",
      "\u001b[0;31mNameError\u001b[0m: name 'cat' is not defined"
     ]
    }
   ],
   "source": [
    "# Calculate predicted probabilities for each category for final test data\n",
    "print 'Begin prediction'\n",
    "pred_probs = lgrFinal.predict_proba(test_final_data[:,range(11,len(test_final.columns))])\n",
    "print 'Completed prediction'"
   ]
  },
  {
   "cell_type": "code",
   "execution_count": 116,
   "metadata": {
    "collapsed": false
   },
   "outputs": [
    {
     "name": "stdout",
     "output_type": "stream",
     "text": [
      "Output to file:  ../data/matthew_submission.csv\n",
      "File creation complete\n"
     ]
    }
   ],
   "source": [
    "# Output predictions to csv file for kaggle submission\n",
    "output = pd.DataFrame(pred_probs, columns=categories)\n",
    "file_name = '../data/matthew_submission.csv'\n",
    "print 'Output to file: ', file_name\n",
    "output.to_csv(file_name, index=True, index_label='Id')\n",
    "print 'File creation complete'"
   ]
  },
  {
   "cell_type": "markdown",
   "metadata": {},
   "source": [
    "## Kaggle Submission Results\n",
    "### Submission 1: Logistic Regression\n",
    "* Log Loss: \n",
    "* Ranking: \n",
    "\n",
    "### Submission 2: \n",
    "* Log Loss: \n",
    "* Ranking: \n",
    "\n",
    "### Submission 3: \n",
    "* Log Loss: \n",
    "* Ranking: \n",
    "\n",
    "### Et cetera...."
   ]
  }
 ],
 "metadata": {
  "kernelspec": {
   "display_name": "Python 2",
   "language": "python",
   "name": "python2"
  },
  "language_info": {
   "codemirror_mode": {
    "name": "ipython",
    "version": 2
   },
   "file_extension": ".py",
   "mimetype": "text/x-python",
   "name": "python",
   "nbconvert_exporter": "python",
   "pygments_lexer": "ipython2",
   "version": "2.7.11"
  }
 },
 "nbformat": 4,
 "nbformat_minor": 0
}
