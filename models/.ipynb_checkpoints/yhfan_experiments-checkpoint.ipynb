{
 "cells": [
  {
   "cell_type": "code",
   "execution_count": 43,
   "metadata": {
    "collapsed": false
   },
   "outputs": [],
   "source": [
    "import csv\n",
    "\n",
    "# This tells matplotlib not to try opening a new window for each plot.\n",
    "%matplotlib inline\n",
    "\n",
    "# General libraries.\n",
    "import re\n",
    "import pandas as pd\n",
    "import numpy as np\n",
    "import xgboost as xgb\n",
    "from xgboost import XGBClassifier\n",
    "from xgboost import plot_importance\n",
    "import matplotlib.pyplot as plt\n",
    "\n",
    "# SK-learn libraries for learning.\n",
    "from sklearn.pipeline import Pipeline\n",
    "from sklearn.neighbors import KNeighborsClassifier\n",
    "from sklearn.linear_model import LogisticRegression\n",
    "from sklearn.naive_bayes import BernoulliNB\n",
    "from sklearn.naive_bayes import MultinomialNB\n",
    "# from sklearn.grid_search import GridSearchCV\n",
    "from sklearn.feature_extraction import DictVectorizer\n",
    "from sklearn.feature_selection import SelectFromModel\n",
    "\n",
    "# SK-learn libraries for evaluation.\n",
    "from sklearn.metrics import confusion_matrix\n",
    "from sklearn import metrics\n",
    "from sklearn.metrics import classification_report\n",
    "from sklearn.metrics import accuracy_score\n",
    "from sklearn.cross_validation import train_test_split\n",
    "\n",
    "# SK-learn libraries for feature extraction from text.\n",
    "from sklearn.feature_extraction.text import *\n",
    "\n",
    "from sklearn.decomposition import PCA\n",
    "from sklearn.decomposition import KernelPCA\n",
    "\n",
    "import warnings\n",
    "warnings.filterwarnings('ignore')"
   ]
  },
  {
   "cell_type": "code",
   "execution_count": 3,
   "metadata": {
    "collapsed": false
   },
   "outputs": [
    {
     "data": {
      "text/html": [
       "<div>\n",
       "<table border=\"1\" class=\"dataframe\">\n",
       "  <thead>\n",
       "    <tr style=\"text-align: right;\">\n",
       "      <th></th>\n",
       "      <th>Dates</th>\n",
       "      <th>Category</th>\n",
       "      <th>Descript</th>\n",
       "      <th>DayOfWeek</th>\n",
       "      <th>PdDistrict</th>\n",
       "      <th>Resolution</th>\n",
       "      <th>Address</th>\n",
       "      <th>X</th>\n",
       "      <th>Y</th>\n",
       "      <th>CategoryNum</th>\n",
       "      <th>DistrictNum</th>\n",
       "      <th>Year</th>\n",
       "      <th>Month</th>\n",
       "      <th>Day</th>\n",
       "      <th>DayNum</th>\n",
       "      <th>MinutesAfterMidnight</th>\n",
       "    </tr>\n",
       "  </thead>\n",
       "  <tbody>\n",
       "    <tr>\n",
       "      <th>0</th>\n",
       "      <td>2015-05-13 23:53:00</td>\n",
       "      <td>WARRANTS</td>\n",
       "      <td>WARRANT ARREST</td>\n",
       "      <td>Wednesday</td>\n",
       "      <td>NORTHERN</td>\n",
       "      <td>ARREST, BOOKED</td>\n",
       "      <td>OAK ST / LAGUNA ST</td>\n",
       "      <td>-122.425892</td>\n",
       "      <td>37.774599</td>\n",
       "      <td>37</td>\n",
       "      <td>4</td>\n",
       "      <td>2015</td>\n",
       "      <td>5</td>\n",
       "      <td>13</td>\n",
       "      <td>3</td>\n",
       "      <td>1433</td>\n",
       "    </tr>\n",
       "    <tr>\n",
       "      <th>1</th>\n",
       "      <td>2015-05-13 23:53:00</td>\n",
       "      <td>OTHER OFFENSES</td>\n",
       "      <td>TRAFFIC VIOLATION ARREST</td>\n",
       "      <td>Wednesday</td>\n",
       "      <td>NORTHERN</td>\n",
       "      <td>ARREST, BOOKED</td>\n",
       "      <td>OAK ST / LAGUNA ST</td>\n",
       "      <td>-122.425892</td>\n",
       "      <td>37.774599</td>\n",
       "      <td>21</td>\n",
       "      <td>4</td>\n",
       "      <td>2015</td>\n",
       "      <td>5</td>\n",
       "      <td>13</td>\n",
       "      <td>3</td>\n",
       "      <td>1433</td>\n",
       "    </tr>\n",
       "    <tr>\n",
       "      <th>2</th>\n",
       "      <td>2015-05-13 23:33:00</td>\n",
       "      <td>OTHER OFFENSES</td>\n",
       "      <td>TRAFFIC VIOLATION ARREST</td>\n",
       "      <td>Wednesday</td>\n",
       "      <td>NORTHERN</td>\n",
       "      <td>ARREST, BOOKED</td>\n",
       "      <td>VANNESS AV / GREENWICH ST</td>\n",
       "      <td>-122.424363</td>\n",
       "      <td>37.800414</td>\n",
       "      <td>21</td>\n",
       "      <td>4</td>\n",
       "      <td>2015</td>\n",
       "      <td>5</td>\n",
       "      <td>13</td>\n",
       "      <td>3</td>\n",
       "      <td>1413</td>\n",
       "    </tr>\n",
       "    <tr>\n",
       "      <th>3</th>\n",
       "      <td>2015-05-13 23:30:00</td>\n",
       "      <td>LARCENY/THEFT</td>\n",
       "      <td>GRAND THEFT FROM LOCKED AUTO</td>\n",
       "      <td>Wednesday</td>\n",
       "      <td>NORTHERN</td>\n",
       "      <td>NONE</td>\n",
       "      <td>1500 Block of LOMBARD ST</td>\n",
       "      <td>-122.426995</td>\n",
       "      <td>37.800873</td>\n",
       "      <td>16</td>\n",
       "      <td>4</td>\n",
       "      <td>2015</td>\n",
       "      <td>5</td>\n",
       "      <td>13</td>\n",
       "      <td>3</td>\n",
       "      <td>1410</td>\n",
       "    </tr>\n",
       "    <tr>\n",
       "      <th>4</th>\n",
       "      <td>2015-05-13 23:30:00</td>\n",
       "      <td>LARCENY/THEFT</td>\n",
       "      <td>GRAND THEFT FROM LOCKED AUTO</td>\n",
       "      <td>Wednesday</td>\n",
       "      <td>PARK</td>\n",
       "      <td>NONE</td>\n",
       "      <td>100 Block of BRODERICK ST</td>\n",
       "      <td>-122.438738</td>\n",
       "      <td>37.771541</td>\n",
       "      <td>16</td>\n",
       "      <td>5</td>\n",
       "      <td>2015</td>\n",
       "      <td>5</td>\n",
       "      <td>13</td>\n",
       "      <td>3</td>\n",
       "      <td>1410</td>\n",
       "    </tr>\n",
       "  </tbody>\n",
       "</table>\n",
       "</div>"
      ],
      "text/plain": [
       "                Dates        Category                      Descript  \\\n",
       "0 2015-05-13 23:53:00        WARRANTS                WARRANT ARREST   \n",
       "1 2015-05-13 23:53:00  OTHER OFFENSES      TRAFFIC VIOLATION ARREST   \n",
       "2 2015-05-13 23:33:00  OTHER OFFENSES      TRAFFIC VIOLATION ARREST   \n",
       "3 2015-05-13 23:30:00   LARCENY/THEFT  GRAND THEFT FROM LOCKED AUTO   \n",
       "4 2015-05-13 23:30:00   LARCENY/THEFT  GRAND THEFT FROM LOCKED AUTO   \n",
       "\n",
       "   DayOfWeek PdDistrict      Resolution                    Address  \\\n",
       "0  Wednesday   NORTHERN  ARREST, BOOKED         OAK ST / LAGUNA ST   \n",
       "1  Wednesday   NORTHERN  ARREST, BOOKED         OAK ST / LAGUNA ST   \n",
       "2  Wednesday   NORTHERN  ARREST, BOOKED  VANNESS AV / GREENWICH ST   \n",
       "3  Wednesday   NORTHERN            NONE   1500 Block of LOMBARD ST   \n",
       "4  Wednesday       PARK            NONE  100 Block of BRODERICK ST   \n",
       "\n",
       "            X          Y  CategoryNum  DistrictNum  Year  Month  Day  DayNum  \\\n",
       "0 -122.425892  37.774599           37            4  2015      5   13       3   \n",
       "1 -122.425892  37.774599           21            4  2015      5   13       3   \n",
       "2 -122.424363  37.800414           21            4  2015      5   13       3   \n",
       "3 -122.426995  37.800873           16            4  2015      5   13       3   \n",
       "4 -122.438738  37.771541           16            5  2015      5   13       3   \n",
       "\n",
       "   MinutesAfterMidnight  \n",
       "0                  1433  \n",
       "1                  1433  \n",
       "2                  1413  \n",
       "3                  1410  \n",
       "4                  1410  "
      ]
     },
     "execution_count": 3,
     "metadata": {},
     "output_type": "execute_result"
    }
   ],
   "source": [
    "# Load training data\n",
    "raw_train_data = pd.read_csv('../data/train.csv', parse_dates = ['Dates'], date_parser = pd.datetools.to_datetime)\n",
    "raw_train_data['CategoryNum'] = raw_train_data['Category'].astype(\"category\").cat.codes\n",
    "raw_train_data['DistrictNum'] = raw_train_data['PdDistrict'].astype('category').cat.codes\n",
    "raw_train_data['Year'] = raw_train_data['Dates'].apply(lambda s: s.year)\n",
    "raw_train_data['Month'] = raw_train_data['Dates'].apply(lambda s: s.month)\n",
    "raw_train_data['Day'] = raw_train_data['Dates'].apply(lambda s: s.day)\n",
    "raw_train_data['DayNum'] = raw_train_data['Dates'].apply(lambda s: s.isoweekday())\n",
    "raw_train_data['MinutesAfterMidnight'] = raw_train_data['Dates'].apply(lambda s: s.hour * 60 + s.minute)\n",
    "raw_train_data.head()"
   ]
  },
  {
   "cell_type": "code",
   "execution_count": 4,
   "metadata": {
    "collapsed": false
   },
   "outputs": [
    {
     "data": {
      "text/html": [
       "<div>\n",
       "<table border=\"1\" class=\"dataframe\">\n",
       "  <thead>\n",
       "    <tr style=\"text-align: right;\">\n",
       "      <th></th>\n",
       "      <th>Id</th>\n",
       "      <th>Dates</th>\n",
       "      <th>DayOfWeek</th>\n",
       "      <th>PdDistrict</th>\n",
       "      <th>Address</th>\n",
       "      <th>X</th>\n",
       "      <th>Y</th>\n",
       "    </tr>\n",
       "  </thead>\n",
       "  <tbody>\n",
       "    <tr>\n",
       "      <th>0</th>\n",
       "      <td>0</td>\n",
       "      <td>2015-05-10 23:59:00</td>\n",
       "      <td>Sunday</td>\n",
       "      <td>BAYVIEW</td>\n",
       "      <td>2000 Block of THOMAS AV</td>\n",
       "      <td>-122.399588</td>\n",
       "      <td>37.735051</td>\n",
       "    </tr>\n",
       "    <tr>\n",
       "      <th>1</th>\n",
       "      <td>1</td>\n",
       "      <td>2015-05-10 23:51:00</td>\n",
       "      <td>Sunday</td>\n",
       "      <td>BAYVIEW</td>\n",
       "      <td>3RD ST / REVERE AV</td>\n",
       "      <td>-122.391523</td>\n",
       "      <td>37.732432</td>\n",
       "    </tr>\n",
       "    <tr>\n",
       "      <th>2</th>\n",
       "      <td>2</td>\n",
       "      <td>2015-05-10 23:50:00</td>\n",
       "      <td>Sunday</td>\n",
       "      <td>NORTHERN</td>\n",
       "      <td>2000 Block of GOUGH ST</td>\n",
       "      <td>-122.426002</td>\n",
       "      <td>37.792212</td>\n",
       "    </tr>\n",
       "    <tr>\n",
       "      <th>3</th>\n",
       "      <td>3</td>\n",
       "      <td>2015-05-10 23:45:00</td>\n",
       "      <td>Sunday</td>\n",
       "      <td>INGLESIDE</td>\n",
       "      <td>4700 Block of MISSION ST</td>\n",
       "      <td>-122.437394</td>\n",
       "      <td>37.721412</td>\n",
       "    </tr>\n",
       "    <tr>\n",
       "      <th>4</th>\n",
       "      <td>4</td>\n",
       "      <td>2015-05-10 23:45:00</td>\n",
       "      <td>Sunday</td>\n",
       "      <td>INGLESIDE</td>\n",
       "      <td>4700 Block of MISSION ST</td>\n",
       "      <td>-122.437394</td>\n",
       "      <td>37.721412</td>\n",
       "    </tr>\n",
       "  </tbody>\n",
       "</table>\n",
       "</div>"
      ],
      "text/plain": [
       "   Id               Dates DayOfWeek PdDistrict                   Address  \\\n",
       "0   0 2015-05-10 23:59:00    Sunday    BAYVIEW   2000 Block of THOMAS AV   \n",
       "1   1 2015-05-10 23:51:00    Sunday    BAYVIEW        3RD ST / REVERE AV   \n",
       "2   2 2015-05-10 23:50:00    Sunday   NORTHERN    2000 Block of GOUGH ST   \n",
       "3   3 2015-05-10 23:45:00    Sunday  INGLESIDE  4700 Block of MISSION ST   \n",
       "4   4 2015-05-10 23:45:00    Sunday  INGLESIDE  4700 Block of MISSION ST   \n",
       "\n",
       "            X          Y  \n",
       "0 -122.399588  37.735051  \n",
       "1 -122.391523  37.732432  \n",
       "2 -122.426002  37.792212  \n",
       "3 -122.437394  37.721412  \n",
       "4 -122.437394  37.721412  "
      ]
     },
     "execution_count": 4,
     "metadata": {},
     "output_type": "execute_result"
    }
   ],
   "source": [
    "# Load test data\n",
    "test_data = pd.read_csv('../data/test.csv', parse_dates = ['Dates'], date_parser = pd.datetools.to_datetime)\n",
    "test_data.head()"
   ]
  },
  {
   "cell_type": "code",
   "execution_count": 5,
   "metadata": {
    "collapsed": false,
    "scrolled": true
   },
   "outputs": [
    {
     "data": {
      "text/html": [
       "<div>\n",
       "<table border=\"1\" class=\"dataframe\">\n",
       "  <thead>\n",
       "    <tr style=\"text-align: right;\">\n",
       "      <th></th>\n",
       "      <th>Year</th>\n",
       "      <th>Month</th>\n",
       "      <th>Day</th>\n",
       "      <th>MinutesAfterMidnight</th>\n",
       "      <th>DayNum</th>\n",
       "      <th>DistrictNum</th>\n",
       "      <th>X</th>\n",
       "      <th>Y</th>\n",
       "    </tr>\n",
       "  </thead>\n",
       "  <tbody>\n",
       "    <tr>\n",
       "      <th>0</th>\n",
       "      <td>2015</td>\n",
       "      <td>5</td>\n",
       "      <td>13</td>\n",
       "      <td>1433</td>\n",
       "      <td>3</td>\n",
       "      <td>4</td>\n",
       "      <td>-122.425892</td>\n",
       "      <td>37.774599</td>\n",
       "    </tr>\n",
       "    <tr>\n",
       "      <th>1</th>\n",
       "      <td>2015</td>\n",
       "      <td>5</td>\n",
       "      <td>13</td>\n",
       "      <td>1433</td>\n",
       "      <td>3</td>\n",
       "      <td>4</td>\n",
       "      <td>-122.425892</td>\n",
       "      <td>37.774599</td>\n",
       "    </tr>\n",
       "    <tr>\n",
       "      <th>2</th>\n",
       "      <td>2015</td>\n",
       "      <td>5</td>\n",
       "      <td>13</td>\n",
       "      <td>1413</td>\n",
       "      <td>3</td>\n",
       "      <td>4</td>\n",
       "      <td>-122.424363</td>\n",
       "      <td>37.800414</td>\n",
       "    </tr>\n",
       "    <tr>\n",
       "      <th>3</th>\n",
       "      <td>2015</td>\n",
       "      <td>5</td>\n",
       "      <td>13</td>\n",
       "      <td>1410</td>\n",
       "      <td>3</td>\n",
       "      <td>4</td>\n",
       "      <td>-122.426995</td>\n",
       "      <td>37.800873</td>\n",
       "    </tr>\n",
       "    <tr>\n",
       "      <th>4</th>\n",
       "      <td>2015</td>\n",
       "      <td>5</td>\n",
       "      <td>13</td>\n",
       "      <td>1410</td>\n",
       "      <td>3</td>\n",
       "      <td>5</td>\n",
       "      <td>-122.438738</td>\n",
       "      <td>37.771541</td>\n",
       "    </tr>\n",
       "  </tbody>\n",
       "</table>\n",
       "</div>"
      ],
      "text/plain": [
       "   Year  Month  Day  MinutesAfterMidnight  DayNum  DistrictNum           X  \\\n",
       "0  2015      5   13                  1433       3            4 -122.425892   \n",
       "1  2015      5   13                  1433       3            4 -122.425892   \n",
       "2  2015      5   13                  1413       3            4 -122.424363   \n",
       "3  2015      5   13                  1410       3            4 -122.426995   \n",
       "4  2015      5   13                  1410       3            5 -122.438738   \n",
       "\n",
       "           Y  \n",
       "0  37.774599  \n",
       "1  37.774599  \n",
       "2  37.800414  \n",
       "3  37.800873  \n",
       "4  37.771541  "
      ]
     },
     "execution_count": 5,
     "metadata": {},
     "output_type": "execute_result"
    }
   ],
   "source": [
    "train_data = raw_train_data.loc[:,['Year','Month','Day','MinutesAfterMidnight','DayNum','DistrictNum','X','Y']]\n",
    "train_data.head()"
   ]
  },
  {
   "cell_type": "code",
   "execution_count": 6,
   "metadata": {
    "collapsed": false
   },
   "outputs": [
    {
     "data": {
      "text/html": [
       "<div>\n",
       "<table border=\"1\" class=\"dataframe\">\n",
       "  <thead>\n",
       "    <tr style=\"text-align: right;\">\n",
       "      <th></th>\n",
       "      <th>Year</th>\n",
       "      <th>Month</th>\n",
       "      <th>Day</th>\n",
       "      <th>MinutesAfterMidnight</th>\n",
       "      <th>DayNum</th>\n",
       "      <th>DistrictNum</th>\n",
       "      <th>X</th>\n",
       "      <th>Y</th>\n",
       "    </tr>\n",
       "  </thead>\n",
       "  <tbody>\n",
       "    <tr>\n",
       "      <th>count</th>\n",
       "      <td>878049.000000</td>\n",
       "      <td>878049.000000</td>\n",
       "      <td>878049.000000</td>\n",
       "      <td>878049.000000</td>\n",
       "      <td>878049.000000</td>\n",
       "      <td>878049.000000</td>\n",
       "      <td>878049.000000</td>\n",
       "      <td>878049.000000</td>\n",
       "    </tr>\n",
       "    <tr>\n",
       "      <th>mean</th>\n",
       "      <td>2008.712046</td>\n",
       "      <td>6.436509</td>\n",
       "      <td>15.570623</td>\n",
       "      <td>824.914304</td>\n",
       "      <td>3.992691</td>\n",
       "      <td>4.445310</td>\n",
       "      <td>-122.422616</td>\n",
       "      <td>37.771020</td>\n",
       "    </tr>\n",
       "    <tr>\n",
       "      <th>std</th>\n",
       "      <td>3.631194</td>\n",
       "      <td>3.428972</td>\n",
       "      <td>8.783005</td>\n",
       "      <td>393.603855</td>\n",
       "      <td>1.972023</td>\n",
       "      <td>2.863715</td>\n",
       "      <td>0.030354</td>\n",
       "      <td>0.456893</td>\n",
       "    </tr>\n",
       "    <tr>\n",
       "      <th>min</th>\n",
       "      <td>2003.000000</td>\n",
       "      <td>1.000000</td>\n",
       "      <td>1.000000</td>\n",
       "      <td>1.000000</td>\n",
       "      <td>1.000000</td>\n",
       "      <td>0.000000</td>\n",
       "      <td>-122.513642</td>\n",
       "      <td>37.707879</td>\n",
       "    </tr>\n",
       "    <tr>\n",
       "      <th>25%</th>\n",
       "      <td>2006.000000</td>\n",
       "      <td>3.000000</td>\n",
       "      <td>8.000000</td>\n",
       "      <td>570.000000</td>\n",
       "      <td>2.000000</td>\n",
       "      <td>2.000000</td>\n",
       "      <td>-122.432952</td>\n",
       "      <td>37.752427</td>\n",
       "    </tr>\n",
       "    <tr>\n",
       "      <th>50%</th>\n",
       "      <td>2009.000000</td>\n",
       "      <td>6.000000</td>\n",
       "      <td>16.000000</td>\n",
       "      <td>885.000000</td>\n",
       "      <td>4.000000</td>\n",
       "      <td>4.000000</td>\n",
       "      <td>-122.416420</td>\n",
       "      <td>37.775421</td>\n",
       "    </tr>\n",
       "    <tr>\n",
       "      <th>75%</th>\n",
       "      <td>2012.000000</td>\n",
       "      <td>9.000000</td>\n",
       "      <td>23.000000</td>\n",
       "      <td>1140.000000</td>\n",
       "      <td>6.000000</td>\n",
       "      <td>7.000000</td>\n",
       "      <td>-122.406959</td>\n",
       "      <td>37.784369</td>\n",
       "    </tr>\n",
       "    <tr>\n",
       "      <th>max</th>\n",
       "      <td>2015.000000</td>\n",
       "      <td>12.000000</td>\n",
       "      <td>31.000000</td>\n",
       "      <td>1439.000000</td>\n",
       "      <td>7.000000</td>\n",
       "      <td>9.000000</td>\n",
       "      <td>-120.500000</td>\n",
       "      <td>90.000000</td>\n",
       "    </tr>\n",
       "  </tbody>\n",
       "</table>\n",
       "</div>"
      ],
      "text/plain": [
       "                Year          Month            Day  MinutesAfterMidnight  \\\n",
       "count  878049.000000  878049.000000  878049.000000         878049.000000   \n",
       "mean     2008.712046       6.436509      15.570623            824.914304   \n",
       "std         3.631194       3.428972       8.783005            393.603855   \n",
       "min      2003.000000       1.000000       1.000000              1.000000   \n",
       "25%      2006.000000       3.000000       8.000000            570.000000   \n",
       "50%      2009.000000       6.000000      16.000000            885.000000   \n",
       "75%      2012.000000       9.000000      23.000000           1140.000000   \n",
       "max      2015.000000      12.000000      31.000000           1439.000000   \n",
       "\n",
       "              DayNum    DistrictNum              X              Y  \n",
       "count  878049.000000  878049.000000  878049.000000  878049.000000  \n",
       "mean        3.992691       4.445310    -122.422616      37.771020  \n",
       "std         1.972023       2.863715       0.030354       0.456893  \n",
       "min         1.000000       0.000000    -122.513642      37.707879  \n",
       "25%         2.000000       2.000000    -122.432952      37.752427  \n",
       "50%         4.000000       4.000000    -122.416420      37.775421  \n",
       "75%         6.000000       7.000000    -122.406959      37.784369  \n",
       "max         7.000000       9.000000    -120.500000      90.000000  "
      ]
     },
     "execution_count": 6,
     "metadata": {},
     "output_type": "execute_result"
    }
   ],
   "source": [
    "train_data.describe()"
   ]
  },
  {
   "cell_type": "code",
   "execution_count": 7,
   "metadata": {
    "collapsed": false
   },
   "outputs": [
    {
     "data": {
      "text/plain": [
       "0          WARRANTS\n",
       "1    OTHER OFFENSES\n",
       "2    OTHER OFFENSES\n",
       "3     LARCENY/THEFT\n",
       "4     LARCENY/THEFT\n",
       "Name: Category, dtype: category\n",
       "Categories (39, object): [ARSON, ASSAULT, BAD CHECKS, BRIBERY, ..., VANDALISM, VEHICLE THEFT, WARRANTS, WEAPON LAWS]"
      ]
     },
     "execution_count": 7,
     "metadata": {},
     "output_type": "execute_result"
    }
   ],
   "source": [
    "train_labels = pd.Series(raw_train_data.loc[:,'Category'].astype(\"category\"))\n",
    "train_labels.head()"
   ]
  },
  {
   "cell_type": "code",
   "execution_count": 8,
   "metadata": {
    "collapsed": false
   },
   "outputs": [
    {
     "data": {
      "text/plain": [
       "<matplotlib.axes._subplots.AxesSubplot at 0x112e66190>"
      ]
     },
     "execution_count": 8,
     "metadata": {},
     "output_type": "execute_result"
    },
    {
     "data": {
      "image/png": "[encoded data removed]",
      "text/plain": [
       "<matplotlib.figure.Figure at 0x10d8a92d0>"
      ]
     },
     "metadata": {},
     "output_type": "display_data"
    }
   ],
   "source": [
    "label_data = pd.DataFrame({'Category': raw_train_data.loc[:,'Category'].astype('category')})\n",
    "train_labels.cat.codes.hist(bins=39)"
   ]
  },
  {
   "cell_type": "code",
   "execution_count": 9,
   "metadata": {
    "collapsed": false
   },
   "outputs": [],
   "source": [
    "# # Determine the total occurrences of each category given a DoW/district combination\n",
    "# plot_data = pd.DataFrame({'DistrictNum': raw_train_data.loc[:,'DistrictNum'],\n",
    "#                           'CategoryNum': raw_train_data.loc[:,'CategoryNum'],\n",
    "#                           'DayNum': raw_train_data.loc[:,'DayNum']})\n",
    "# plot_data['Quantity'] = [1] * len(plot_data.loc[:,'DistrictNum'])\n",
    "# agg_plot_data = plot_data.groupby(['DayNum', 'DistrictNum', 'CategoryNum'])\n",
    "# plot_data['Counts'] = agg_plot_data.transform(sum)\n",
    "# plot_data['DayDistrict'] = plot_data.apply(lambda r: r['DayNum'] * 10 + r['DistrictNum'], axis=1)\n",
    "# plot_data.head()"
   ]
  },
  {
   "cell_type": "code",
   "execution_count": 10,
   "metadata": {
    "collapsed": false
   },
   "outputs": [],
   "source": [
    "# # The size of a circle represents the occurrence count.\n",
    "# # x-axis covers the 39 categories.\n",
    "# # y-axis is the combination of \"day of the week\" and \"district\" represented in 2 digits.\n",
    "# # The scattered plot shows that there is no correlation between category and day of the week.\n",
    "# # The scattered plot shows that there is some correlation between category and district.\n",
    "# plot_data.plot(kind='scatter', y='DayDistrict', x='CategoryNum', s=plot_data['Counts'], grid=True, figsize=(20,80))"
   ]
  },
  {
   "cell_type": "code",
   "execution_count": 11,
   "metadata": {
    "collapsed": true
   },
   "outputs": [],
   "source": [
    "# a handy function for vizualizing principle components as a heatmap\n",
    "# this allows you to see what dimensions in the 'original space' are\n",
    "# active\n",
    "\n",
    "def visualize_pca_comps_heatmap(plot, comps):\n",
    "    heatmap = plot.pcolor(abs(comps), cmap=plt.cm.Blues)\n",
    "    \n",
    "    x_lab = [i for i in range(comps.shape[1])]\n",
    "    y_lab = [i for i in (range(comps.shape[0]))]\n",
    "    \n",
    "    plot.set_xticks(np.arange(comps.shape[1])+0.5, minor=False)\n",
    "    plot.set_yticks(np.arange(comps.shape[0])+0.5, minor=False)\n",
    "    \n",
    "    # want a more natural, table-like display\n",
    "    plot.invert_yaxis()\n",
    "    \n",
    "    plot.set_xticklabels(x_lab, minor=False)\n",
    "    plot.set_yticklabels(y_lab, minor=False)\n",
    "    \n",
    "    plt.title('Heatmap of PCA components Rows: components, Cols: Original dimensions')"
   ]
  },
  {
   "cell_type": "code",
   "execution_count": 23,
   "metadata": {
    "collapsed": false
   },
   "outputs": [
    {
     "data": {
      "image/png": "[encoded data removed]",
      "text/plain": [
       "<matplotlib.figure.Figure at 0x10b6f95d0>"
      ]
     },
     "metadata": {},
     "output_type": "display_data"
    }
   ],
   "source": [
    "n_comp = 8\n",
    "plt.figure(figsize=(12, 6))\n",
    "\n",
    "pca_train = PCA(n_components = n_comp)\n",
    "pca_train.fit(train_data.as_matrix(columns=('Year','Month','Day','MinutesAfterMidnight','DayNum','DistrictNum','X','Y')), train_labels)\n",
    "p1 = plt.subplot(1, 2, 1)\n",
    "visualize_pca_comps_heatmap(p1, pca_train.components_)\n",
    "\n",
    "plt.subplot(1, 2, 2)\n",
    "plt.plot(pca_train.explained_variance_ratio_)\n",
    "plt.show()"
   ]
  },
  {
   "cell_type": "code",
   "execution_count": 15,
   "metadata": {
    "collapsed": true
   },
   "outputs": [],
   "source": [
    "X_train = train_data.as_matrix(columns=('Year','Month','Day','MinutesAfterMidnight','DayNum','DistrictNum','X','Y'))\n",
    "y_train = train_labels.values"
   ]
  },
  {
   "cell_type": "code",
   "execution_count": 16,
   "metadata": {
    "collapsed": false
   },
   "outputs": [
    {
     "data": {
      "text/plain": [
       "(878049, 8)"
      ]
     },
     "execution_count": 16,
     "metadata": {},
     "output_type": "execute_result"
    }
   ],
   "source": [
    "X_train.shape"
   ]
  },
  {
   "cell_type": "code",
   "execution_count": 17,
   "metadata": {
    "collapsed": false
   },
   "outputs": [
    {
     "data": {
      "text/plain": [
       "(878049,)"
      ]
     },
     "execution_count": 17,
     "metadata": {},
     "output_type": "execute_result"
    }
   ],
   "source": [
    "y_train.shape"
   ]
  },
  {
   "cell_type": "code",
   "execution_count": 18,
   "metadata": {
    "collapsed": false
   },
   "outputs": [
    {
     "name": "stdout",
     "output_type": "stream",
     "text": [
      "[ 0.09585173  0.01236925  0.03527821  0.26011217  0.02784075  0.0465736\n",
      "  0.23859523  0.28337908]\n"
     ]
    }
   ],
   "source": [
    "xgb_model = XGBClassifier()\n",
    "xgb_model.fit(X_train, y_train)\n",
    "print(xgb_model.feature_importances_)"
   ]
  },
  {
   "cell_type": "code",
   "execution_count": 22,
   "metadata": {
    "collapsed": false
   },
   "outputs": [
    {
     "data": {
      "image/png": "[encoded data removed]",
      "text/plain": [
       "<matplotlib.figure.Figure at 0x1104ef1d0>"
      ]
     },
     "metadata": {},
     "output_type": "display_data"
    }
   ],
   "source": [
    "plt.figure(figsize=(6, 4))\n",
    "plt.bar(range(len(xgb_model.feature_importances_)), xgb_model.feature_importances_)\n",
    "plt.show()"
   ]
  },
  {
   "cell_type": "code",
   "execution_count": 26,
   "metadata": {
    "collapsed": false
   },
   "outputs": [
    {
     "data": {
      "text/plain": [
       "<matplotlib.figure.Figure at 0x10d79ea10>"
      ]
     },
     "metadata": {},
     "output_type": "display_data"
    },
    {
     "data": {
      "image/png": "[encoded data removed]",
      "text/plain": [
       "<matplotlib.figure.Figure at 0x10bde9e50>"
      ]
     },
     "metadata": {},
     "output_type": "display_data"
    }
   ],
   "source": [
    "plt.figure(figsize=(6, 4))\n",
    "plot_importance(xgb_model)\n",
    "plt.show()"
   ]
  },
  {
   "cell_type": "code",
   "execution_count": 40,
   "metadata": {
    "collapsed": false
   },
   "outputs": [
    {
     "data": {
      "text/plain": [
       "((702439, 8), (175610, 8))"
      ]
     },
     "execution_count": 40,
     "metadata": {},
     "output_type": "execute_result"
    }
   ],
   "source": [
    "X_train_pd, X_dev_pd, y_train_pd, y_dev_pd = train_test_split(train_data.loc[:,['Year','Month','Day','MinutesAfterMidnight','DayNum','DistrictNum','X','Y']], train_labels, test_size = 0.2, random_state = 42)\n",
    "X_train = X_train_pd.as_matrix(columns=('Year','Month','Day','MinutesAfterMidnight','DayNum','DistrictNum','X','Y'))\n",
    "y_train = y_train_pd.codes\n",
    "X_dev = X_dev_pd.as_matrix(columns=('Year','Month','Day','MinutesAfterMidnight','DayNum','DistrictNum','X','Y'))\n",
    "y_dev = y_dev_pd.codes\n",
    "(X_train.shape, X_dev.shape)"
   ]
  },
  {
   "cell_type": "code",
   "execution_count": 41,
   "metadata": {
    "collapsed": false
   },
   "outputs": [
    {
     "name": "stdout",
     "output_type": "stream",
     "text": [
      "[ 0.08530888  0.03941248  0.063119    0.22413811  0.04183504  0.03291837\n",
      "  0.24630763  0.2669605 ]\n"
     ]
    }
   ],
   "source": [
    "xgb_model_2 = XGBClassifier(objective='multi:softmax', max_depth=5)\n",
    "xgb_model_2.fit(X_train, y_train, eval_metric='mlogloss')\n",
    "print(xgb_model_2.feature_importances_)"
   ]
  },
  {
   "cell_type": "code",
   "execution_count": 44,
   "metadata": {
    "collapsed": false
   },
   "outputs": [
    {
     "name": "stdout",
     "output_type": "stream",
     "text": [
      "Accuracy = %f\n",
      "\n"
     ]
    }
   ],
   "source": [
    "y_dev_pred = xgb_model_2.predict(X_dev)"
   ]
  },
  {
   "cell_type": "code",
   "execution_count": 49,
   "metadata": {
    "collapsed": false
   },
   "outputs": [
    {
     "data": {
      "text/plain": [
       "array([16, 21, 16, ..., 16, 16,  7], dtype=int8)"
      ]
     },
     "execution_count": 49,
     "metadata": {},
     "output_type": "execute_result"
    }
   ],
   "source": [
    "y_dev_pred"
   ]
  },
  {
   "cell_type": "code",
   "execution_count": 50,
   "metadata": {
    "collapsed": false
   },
   "outputs": [
    {
     "name": "stdout",
     "output_type": "stream",
     "text": [
      "Accuracy = 0.281197\n",
      "\n"
     ]
    }
   ],
   "source": [
    "accuracy = accuracy_score(y_dev, y_dev_pred)\n",
    "print(\"Accuracy = {:f}\\n\".format(accuracy))"
   ]
  },
  {
   "cell_type": "code",
   "execution_count": 52,
   "metadata": {
    "collapsed": false
   },
   "outputs": [],
   "source": [
    "param = {}\n",
    "param['objective'] = 'multi:softmax'\n",
    "# scale weight of positive examples\n",
    "param['eta'] = 0.1\n",
    "param['max_depth'] = 6\n",
    "param['silent'] = 1\n",
    "# param['nthread'] = 4\n",
    "param['num_class'] = 39\n",
    "\n",
    "results = []\n",
    "thresholds = np.sort(xgb_model_2.feature_importances_)\n",
    "for t in thresholds:\n",
    "    selection = SelectFromModel(xgb_model_2, threshold=t, prefit=True)\n",
    "    select_X_train = selection.transform(X_train)\n",
    "#     xg_train = xgb.DMatrix(select_X_train, label=y_train)\n",
    "#     watchlist = [ (xg_train,'train'), (xg_test, 'test') ]\n",
    "#     bst = xgb.train(param, xg_train, num_round, watchlist)\n",
    "#     selection_model = XGBClassifier(objective='multi:softmax', max_depth=5)\n",
    "#     selection_model.fit(select_X_train, y_train, eval_metric='mlogloss')\n",
    "#     select_X_dev = selection.transform(X_dev)\n",
    "#     xg_dev = xgb.DMatrix(select_X_dev, label=y_dev)\n",
    "#     select_y_dev_pred = selection_model.predict(select_X_dev)\n",
    "#     accuracy = accuracy_score(y_dev, y_dev_pred)\n",
    "#     results.append((t, select_X_train[1], accuracy))\n",
    "    selection_model = XGBClassifier(objective='multi:softmax', max_depth=5)\n",
    "    selection_model.fit(select_X_train, y_train, eval_metric='mlogloss')\n",
    "    select_X_dev = selection.transform(X_dev)\n",
    "    select_y_dev_pred = selection_model.predict(select_X_dev)\n",
    "    accuracy = accuracy_score(y_dev, y_dev_pred)\n",
    "    results.append((t, select_X_train[1], accuracy))"
   ]
  },
  {
   "cell_type": "code",
   "execution_count": 54,
   "metadata": {
    "collapsed": false
   },
   "outputs": [
    {
     "name": "stdout",
     "output_type": "stream",
     "text": [
      "Threshold = 0.032918 ; n = [  2.01200000e+03   2.00000000e+00   2.60000000e+01   6.08000000e+02\n",
      "   7.00000000e+00   3.00000000e+00  -1.22408831e+02   3.77503895e+01] ; Accuracy = 0.281197\n",
      "Threshold = 0.039412 ; n = [  2.01200000e+03   2.00000000e+00   2.60000000e+01   6.08000000e+02\n",
      "   7.00000000e+00  -1.22408831e+02   3.77503895e+01] ; Accuracy = 0.281197\n",
      "Threshold = 0.041835 ; n = [ 2012.            26.           608.             7.          -122.40883112\n",
      "    37.75038952] ; Accuracy = 0.281197\n",
      "Threshold = 0.063119 ; n = [ 2012.            26.           608.          -122.40883112    37.75038952] ; Accuracy = 0.281197\n",
      "Threshold = 0.085309 ; n = [ 2012.           608.          -122.40883112    37.75038952] ; Accuracy = 0.281197\n",
      "Threshold = 0.224138 ; n = [ 608.         -122.40883112   37.75038952] ; Accuracy = 0.281197\n",
      "Threshold = 0.246308 ; n = [-122.40883112   37.75038952] ; Accuracy = 0.281197\n",
      "Threshold = 0.266961 ; n = [ 37.75038952] ; Accuracy = 0.281197\n"
     ]
    }
   ],
   "source": [
    "for r in results:\n",
    "    print(\"Threshold = {:f} ; n = {} ; Accuracy = {:f}\".format(r[0], r[1], r[2]))"
   ]
  },
  {
   "cell_type": "code",
   "execution_count": 13,
   "metadata": {
    "collapsed": false
   },
   "outputs": [
    {
     "data": {
      "text/plain": [
       "(73902, 8)"
      ]
     },
     "execution_count": 13,
     "metadata": {},
     "output_type": "execute_result"
    }
   ],
   "source": [
    "train_data[train_data['Year'] == 2003].shape"
   ]
  },
  {
   "cell_type": "code",
   "execution_count": 16,
   "metadata": {
    "collapsed": false
   },
   "outputs": [
    {
     "data": {
      "text/plain": [
       "(73902,)"
      ]
     },
     "execution_count": 16,
     "metadata": {},
     "output_type": "execute_result"
    }
   ],
   "source": [
    "train_labels[train_data['Year'] == 2003].shape"
   ]
  },
  {
   "cell_type": "code",
   "execution_count": null,
   "metadata": {
    "collapsed": false
   },
   "outputs": [],
   "source": [
    "# n_comp = 7\n",
    "# train_data_2003 = train_data[train_data['Year'] == 2003].as_matrix(columns=('Month','Day','MinutesAfterMidnight','DayNum','DistrictNum','X','Y'))\n",
    "# train_labels_2003 = train_labels[train_data['Year'] == 2003].values\n",
    "# kpca_train = KernelPCA(n_components = n_comp, kernel='poly')\n",
    "# kpca_train.fit(train_data_2003, train_labels_2003)\n",
    "\n",
    "# plt.figure(figsize=(12, 6))\n",
    "\n",
    "# p2 = plt.subplot(1, 2, 1)\n",
    "# visualize_pca_comps_heatmap(p2, kpca_train.alphas_)\n",
    "\n",
    "# plt.subplot(1, 2, 2)\n",
    "# plt.plot(kpca_train.explained_variance_ratio_)"
   ]
  },
  {
   "cell_type": "code",
   "execution_count": null,
   "metadata": {
    "collapsed": false
   },
   "outputs": [],
   "source": [
    "# clf = LogisticRegression()\n",
    "# clf.fit(X_train, y_train)\n",
    "# predicted_y_dev = clf.predict(X_dev)\n",
    "# for i in range(10):\n",
    "#     print(\"{} {}\".format(y_dev[i], predicted_y_dev[i]))"
   ]
  },
  {
   "cell_type": "code",
   "execution_count": null,
   "metadata": {
    "collapsed": true
   },
   "outputs": [],
   "source": []
  }
 ],
 "metadata": {
  "kernelspec": {
   "display_name": "Python 2",
   "language": "python",
   "name": "python2"
  },
  "language_info": {
   "codemirror_mode": {
    "name": "ipython",
    "version": 2
   },
   "file_extension": ".py",
   "mimetype": "text/x-python",
   "name": "python",
   "nbconvert_exporter": "python",
   "pygments_lexer": "ipython2",
   "version": "2.7.12"
  }
 },
 "nbformat": 4,
 "nbformat_minor": 0
}
